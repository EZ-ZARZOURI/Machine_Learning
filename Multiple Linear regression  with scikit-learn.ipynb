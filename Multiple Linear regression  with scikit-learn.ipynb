{
 "cells": [
  {
   "cell_type": "markdown",
   "id": "d8abb433",
   "metadata": {},
   "source": [
    "#  <span style=\"color:blue\"> Multiple Linear regression</span>"
   ]
  },
  {
   "cell_type": "markdown",
   "id": "29263b7d",
   "metadata": {},
   "source": [
    "## <span style=\"color:red\">Licence Professionnelle en Big Data et Intelligence Artificielle </span>"
   ]
  },
  {
   "cell_type": "markdown",
   "id": "ad952b49",
   "metadata": {},
   "source": [
    "### <span style=\"color:purple\">Réalisée par:</span> EZ-ZARZOURI Houda"
   ]
  },
  {
   "cell_type": "markdown",
   "id": "8eb55376",
   "metadata": {},
   "source": [
    "## <span style=\"color:red\">Objectifs :</span>\n",
    "Dans cet exercice, je vais mettre en œuvre la régression linéaire multiple en utilisant les modules scikit-learn et voir comment cela fonctionne sur des données réelles.\n",
    "J'effectuera les étapes suivantes pour mettre en œuvre et tester votre modèle :\n",
    "+ Importez les bibliothèques et les données, en identifiant les variables dépendantes et indépendantes.\n",
    "+ Divisez l'ensemble de données en ensemble d'entraînement et ensemble de test.\n",
    "+ Entraînez le modèle sur l'ensemble d'entraînement.\n",
    "+ Évaluez les performances du modèle."
   ]
  },
  {
   "cell_type": "markdown",
   "id": "8d9eb97b",
   "metadata": {},
   "source": [
    "### <span style=\"color:red\"> Implementation of Multiple Linear regression</span>"
   ]
  },
  {
   "cell_type": "markdown",
   "id": "84f26ae7",
   "metadata": {},
   "source": [
    "### <span style=\"color:red\">1. Import the librairies and the data</span>"
   ]
  },
  {
   "cell_type": "code",
   "execution_count": 40,
   "id": "ea4bf771",
   "metadata": {},
   "outputs": [],
   "source": [
    "import numpy as np \n",
    "import matplotlib.pyplot as plt \n",
    "import pandas as pd\n",
    "from sklearn.linear_model import LinearRegression \n",
    "from sklearn.model_selection import train_test_split\n",
    "import seaborn as sns"
   ]
  },
  {
   "cell_type": "markdown",
   "id": "a84604ce",
   "metadata": {},
   "source": [
    "#### De plus, dans cet exercice, je vais utiliser un ensemble de données réel pour prédire le prix des maisons, House Sales in King County, USA, téléchargé depuis Kaggle."
   ]
  },
  {
   "cell_type": "code",
   "execution_count": 41,
   "id": "daff6175",
   "metadata": {},
   "outputs": [],
   "source": [
    "data = pd.read_csv('C:\\kc_house_data.csv')"
   ]
  },
  {
   "cell_type": "code",
   "execution_count": 42,
   "id": "1da428bd",
   "metadata": {},
   "outputs": [
    {
     "data": {
      "text/html": [
       "<div>\n",
       "<style scoped>\n",
       "    .dataframe tbody tr th:only-of-type {\n",
       "        vertical-align: middle;\n",
       "    }\n",
       "\n",
       "    .dataframe tbody tr th {\n",
       "        vertical-align: top;\n",
       "    }\n",
       "\n",
       "    .dataframe thead th {\n",
       "        text-align: right;\n",
       "    }\n",
       "</style>\n",
       "<table border=\"1\" class=\"dataframe\">\n",
       "  <thead>\n",
       "    <tr style=\"text-align: right;\">\n",
       "      <th></th>\n",
       "      <th>id</th>\n",
       "      <th>date</th>\n",
       "      <th>price</th>\n",
       "      <th>bedrooms</th>\n",
       "      <th>bathrooms</th>\n",
       "      <th>sqft_living</th>\n",
       "      <th>sqft_lot</th>\n",
       "      <th>floors</th>\n",
       "      <th>waterfront</th>\n",
       "      <th>view</th>\n",
       "      <th>...</th>\n",
       "      <th>grade</th>\n",
       "      <th>sqft_above</th>\n",
       "      <th>sqft_basement</th>\n",
       "      <th>yr_built</th>\n",
       "      <th>yr_renovated</th>\n",
       "      <th>zipcode</th>\n",
       "      <th>lat</th>\n",
       "      <th>long</th>\n",
       "      <th>sqft_living15</th>\n",
       "      <th>sqft_lot15</th>\n",
       "    </tr>\n",
       "  </thead>\n",
       "  <tbody>\n",
       "    <tr>\n",
       "      <th>0</th>\n",
       "      <td>7129300520</td>\n",
       "      <td>20141013T000000</td>\n",
       "      <td>221900.0</td>\n",
       "      <td>3</td>\n",
       "      <td>1.00</td>\n",
       "      <td>1180</td>\n",
       "      <td>5650</td>\n",
       "      <td>1.0</td>\n",
       "      <td>0</td>\n",
       "      <td>0</td>\n",
       "      <td>...</td>\n",
       "      <td>7</td>\n",
       "      <td>1180</td>\n",
       "      <td>0</td>\n",
       "      <td>1955</td>\n",
       "      <td>0</td>\n",
       "      <td>98178</td>\n",
       "      <td>47.5112</td>\n",
       "      <td>-122.257</td>\n",
       "      <td>1340</td>\n",
       "      <td>5650</td>\n",
       "    </tr>\n",
       "    <tr>\n",
       "      <th>1</th>\n",
       "      <td>6414100192</td>\n",
       "      <td>20141209T000000</td>\n",
       "      <td>538000.0</td>\n",
       "      <td>3</td>\n",
       "      <td>2.25</td>\n",
       "      <td>2570</td>\n",
       "      <td>7242</td>\n",
       "      <td>2.0</td>\n",
       "      <td>0</td>\n",
       "      <td>0</td>\n",
       "      <td>...</td>\n",
       "      <td>7</td>\n",
       "      <td>2170</td>\n",
       "      <td>400</td>\n",
       "      <td>1951</td>\n",
       "      <td>1991</td>\n",
       "      <td>98125</td>\n",
       "      <td>47.7210</td>\n",
       "      <td>-122.319</td>\n",
       "      <td>1690</td>\n",
       "      <td>7639</td>\n",
       "    </tr>\n",
       "    <tr>\n",
       "      <th>2</th>\n",
       "      <td>5631500400</td>\n",
       "      <td>20150225T000000</td>\n",
       "      <td>180000.0</td>\n",
       "      <td>2</td>\n",
       "      <td>1.00</td>\n",
       "      <td>770</td>\n",
       "      <td>10000</td>\n",
       "      <td>1.0</td>\n",
       "      <td>0</td>\n",
       "      <td>0</td>\n",
       "      <td>...</td>\n",
       "      <td>6</td>\n",
       "      <td>770</td>\n",
       "      <td>0</td>\n",
       "      <td>1933</td>\n",
       "      <td>0</td>\n",
       "      <td>98028</td>\n",
       "      <td>47.7379</td>\n",
       "      <td>-122.233</td>\n",
       "      <td>2720</td>\n",
       "      <td>8062</td>\n",
       "    </tr>\n",
       "    <tr>\n",
       "      <th>3</th>\n",
       "      <td>2487200875</td>\n",
       "      <td>20141209T000000</td>\n",
       "      <td>604000.0</td>\n",
       "      <td>4</td>\n",
       "      <td>3.00</td>\n",
       "      <td>1960</td>\n",
       "      <td>5000</td>\n",
       "      <td>1.0</td>\n",
       "      <td>0</td>\n",
       "      <td>0</td>\n",
       "      <td>...</td>\n",
       "      <td>7</td>\n",
       "      <td>1050</td>\n",
       "      <td>910</td>\n",
       "      <td>1965</td>\n",
       "      <td>0</td>\n",
       "      <td>98136</td>\n",
       "      <td>47.5208</td>\n",
       "      <td>-122.393</td>\n",
       "      <td>1360</td>\n",
       "      <td>5000</td>\n",
       "    </tr>\n",
       "    <tr>\n",
       "      <th>4</th>\n",
       "      <td>1954400510</td>\n",
       "      <td>20150218T000000</td>\n",
       "      <td>510000.0</td>\n",
       "      <td>3</td>\n",
       "      <td>2.00</td>\n",
       "      <td>1680</td>\n",
       "      <td>8080</td>\n",
       "      <td>1.0</td>\n",
       "      <td>0</td>\n",
       "      <td>0</td>\n",
       "      <td>...</td>\n",
       "      <td>8</td>\n",
       "      <td>1680</td>\n",
       "      <td>0</td>\n",
       "      <td>1987</td>\n",
       "      <td>0</td>\n",
       "      <td>98074</td>\n",
       "      <td>47.6168</td>\n",
       "      <td>-122.045</td>\n",
       "      <td>1800</td>\n",
       "      <td>7503</td>\n",
       "    </tr>\n",
       "  </tbody>\n",
       "</table>\n",
       "<p>5 rows × 21 columns</p>\n",
       "</div>"
      ],
      "text/plain": [
       "           id             date     price  bedrooms  bathrooms  sqft_living  \\\n",
       "0  7129300520  20141013T000000  221900.0         3       1.00         1180   \n",
       "1  6414100192  20141209T000000  538000.0         3       2.25         2570   \n",
       "2  5631500400  20150225T000000  180000.0         2       1.00          770   \n",
       "3  2487200875  20141209T000000  604000.0         4       3.00         1960   \n",
       "4  1954400510  20150218T000000  510000.0         3       2.00         1680   \n",
       "\n",
       "   sqft_lot  floors  waterfront  view  ...  grade  sqft_above  sqft_basement  \\\n",
       "0      5650     1.0           0     0  ...      7        1180              0   \n",
       "1      7242     2.0           0     0  ...      7        2170            400   \n",
       "2     10000     1.0           0     0  ...      6         770              0   \n",
       "3      5000     1.0           0     0  ...      7        1050            910   \n",
       "4      8080     1.0           0     0  ...      8        1680              0   \n",
       "\n",
       "   yr_built  yr_renovated  zipcode      lat     long  sqft_living15  \\\n",
       "0      1955             0    98178  47.5112 -122.257           1340   \n",
       "1      1951          1991    98125  47.7210 -122.319           1690   \n",
       "2      1933             0    98028  47.7379 -122.233           2720   \n",
       "3      1965             0    98136  47.5208 -122.393           1360   \n",
       "4      1987             0    98074  47.6168 -122.045           1800   \n",
       "\n",
       "   sqft_lot15  \n",
       "0        5650  \n",
       "1        7639  \n",
       "2        8062  \n",
       "3        5000  \n",
       "4        7503  \n",
       "\n",
       "[5 rows x 21 columns]"
      ]
     },
     "execution_count": 42,
     "metadata": {},
     "output_type": "execute_result"
    }
   ],
   "source": [
    "data.head()"
   ]
  },
  {
   "cell_type": "markdown",
   "id": "bc0e126e",
   "metadata": {},
   "source": [
    "Lorsque nous travaillons avec un ensemble de données brut, nous devons traiter les valeurs nulles et supprimer les colonnes qui semblent insignifiantes pour atteindre l'objectif. Notre ensemble de données ne contenait pas de valeurs nulles et les colonnes id, date, lat et long doivent être supprimées."
   ]
  },
  {
   "cell_type": "markdown",
   "id": "cdd64760",
   "metadata": {},
   "source": [
    "#### Sélectionner la variable dépendante (le prix) dans un vecteur y et les variables indépendantes (toutes les autres caractéristiques sauf id, date, lat, long) dans une matrice x."
   ]
  },
  {
   "cell_type": "code",
   "execution_count": 43,
   "id": "4c24038a",
   "metadata": {},
   "outputs": [],
   "source": [
    "\n",
    "X=data.drop(['id','date','lat','long'],axis=1)"
   ]
  },
  {
   "cell_type": "code",
   "execution_count": 44,
   "id": "075c73dc",
   "metadata": {},
   "outputs": [
    {
     "data": {
      "text/html": [
       "<div>\n",
       "<style scoped>\n",
       "    .dataframe tbody tr th:only-of-type {\n",
       "        vertical-align: middle;\n",
       "    }\n",
       "\n",
       "    .dataframe tbody tr th {\n",
       "        vertical-align: top;\n",
       "    }\n",
       "\n",
       "    .dataframe thead th {\n",
       "        text-align: right;\n",
       "    }\n",
       "</style>\n",
       "<table border=\"1\" class=\"dataframe\">\n",
       "  <thead>\n",
       "    <tr style=\"text-align: right;\">\n",
       "      <th></th>\n",
       "      <th>price</th>\n",
       "      <th>bedrooms</th>\n",
       "      <th>bathrooms</th>\n",
       "      <th>sqft_living</th>\n",
       "      <th>sqft_lot</th>\n",
       "      <th>floors</th>\n",
       "      <th>waterfront</th>\n",
       "      <th>view</th>\n",
       "      <th>condition</th>\n",
       "      <th>grade</th>\n",
       "      <th>sqft_above</th>\n",
       "      <th>sqft_basement</th>\n",
       "      <th>yr_built</th>\n",
       "      <th>yr_renovated</th>\n",
       "      <th>zipcode</th>\n",
       "      <th>sqft_living15</th>\n",
       "      <th>sqft_lot15</th>\n",
       "    </tr>\n",
       "  </thead>\n",
       "  <tbody>\n",
       "    <tr>\n",
       "      <th>0</th>\n",
       "      <td>221900.0</td>\n",
       "      <td>3</td>\n",
       "      <td>1.00</td>\n",
       "      <td>1180</td>\n",
       "      <td>5650</td>\n",
       "      <td>1.0</td>\n",
       "      <td>0</td>\n",
       "      <td>0</td>\n",
       "      <td>3</td>\n",
       "      <td>7</td>\n",
       "      <td>1180</td>\n",
       "      <td>0</td>\n",
       "      <td>1955</td>\n",
       "      <td>0</td>\n",
       "      <td>98178</td>\n",
       "      <td>1340</td>\n",
       "      <td>5650</td>\n",
       "    </tr>\n",
       "    <tr>\n",
       "      <th>1</th>\n",
       "      <td>538000.0</td>\n",
       "      <td>3</td>\n",
       "      <td>2.25</td>\n",
       "      <td>2570</td>\n",
       "      <td>7242</td>\n",
       "      <td>2.0</td>\n",
       "      <td>0</td>\n",
       "      <td>0</td>\n",
       "      <td>3</td>\n",
       "      <td>7</td>\n",
       "      <td>2170</td>\n",
       "      <td>400</td>\n",
       "      <td>1951</td>\n",
       "      <td>1991</td>\n",
       "      <td>98125</td>\n",
       "      <td>1690</td>\n",
       "      <td>7639</td>\n",
       "    </tr>\n",
       "    <tr>\n",
       "      <th>2</th>\n",
       "      <td>180000.0</td>\n",
       "      <td>2</td>\n",
       "      <td>1.00</td>\n",
       "      <td>770</td>\n",
       "      <td>10000</td>\n",
       "      <td>1.0</td>\n",
       "      <td>0</td>\n",
       "      <td>0</td>\n",
       "      <td>3</td>\n",
       "      <td>6</td>\n",
       "      <td>770</td>\n",
       "      <td>0</td>\n",
       "      <td>1933</td>\n",
       "      <td>0</td>\n",
       "      <td>98028</td>\n",
       "      <td>2720</td>\n",
       "      <td>8062</td>\n",
       "    </tr>\n",
       "    <tr>\n",
       "      <th>3</th>\n",
       "      <td>604000.0</td>\n",
       "      <td>4</td>\n",
       "      <td>3.00</td>\n",
       "      <td>1960</td>\n",
       "      <td>5000</td>\n",
       "      <td>1.0</td>\n",
       "      <td>0</td>\n",
       "      <td>0</td>\n",
       "      <td>5</td>\n",
       "      <td>7</td>\n",
       "      <td>1050</td>\n",
       "      <td>910</td>\n",
       "      <td>1965</td>\n",
       "      <td>0</td>\n",
       "      <td>98136</td>\n",
       "      <td>1360</td>\n",
       "      <td>5000</td>\n",
       "    </tr>\n",
       "    <tr>\n",
       "      <th>4</th>\n",
       "      <td>510000.0</td>\n",
       "      <td>3</td>\n",
       "      <td>2.00</td>\n",
       "      <td>1680</td>\n",
       "      <td>8080</td>\n",
       "      <td>1.0</td>\n",
       "      <td>0</td>\n",
       "      <td>0</td>\n",
       "      <td>3</td>\n",
       "      <td>8</td>\n",
       "      <td>1680</td>\n",
       "      <td>0</td>\n",
       "      <td>1987</td>\n",
       "      <td>0</td>\n",
       "      <td>98074</td>\n",
       "      <td>1800</td>\n",
       "      <td>7503</td>\n",
       "    </tr>\n",
       "    <tr>\n",
       "      <th>...</th>\n",
       "      <td>...</td>\n",
       "      <td>...</td>\n",
       "      <td>...</td>\n",
       "      <td>...</td>\n",
       "      <td>...</td>\n",
       "      <td>...</td>\n",
       "      <td>...</td>\n",
       "      <td>...</td>\n",
       "      <td>...</td>\n",
       "      <td>...</td>\n",
       "      <td>...</td>\n",
       "      <td>...</td>\n",
       "      <td>...</td>\n",
       "      <td>...</td>\n",
       "      <td>...</td>\n",
       "      <td>...</td>\n",
       "      <td>...</td>\n",
       "    </tr>\n",
       "    <tr>\n",
       "      <th>21608</th>\n",
       "      <td>360000.0</td>\n",
       "      <td>3</td>\n",
       "      <td>2.50</td>\n",
       "      <td>1530</td>\n",
       "      <td>1131</td>\n",
       "      <td>3.0</td>\n",
       "      <td>0</td>\n",
       "      <td>0</td>\n",
       "      <td>3</td>\n",
       "      <td>8</td>\n",
       "      <td>1530</td>\n",
       "      <td>0</td>\n",
       "      <td>2009</td>\n",
       "      <td>0</td>\n",
       "      <td>98103</td>\n",
       "      <td>1530</td>\n",
       "      <td>1509</td>\n",
       "    </tr>\n",
       "    <tr>\n",
       "      <th>21609</th>\n",
       "      <td>400000.0</td>\n",
       "      <td>4</td>\n",
       "      <td>2.50</td>\n",
       "      <td>2310</td>\n",
       "      <td>5813</td>\n",
       "      <td>2.0</td>\n",
       "      <td>0</td>\n",
       "      <td>0</td>\n",
       "      <td>3</td>\n",
       "      <td>8</td>\n",
       "      <td>2310</td>\n",
       "      <td>0</td>\n",
       "      <td>2014</td>\n",
       "      <td>0</td>\n",
       "      <td>98146</td>\n",
       "      <td>1830</td>\n",
       "      <td>7200</td>\n",
       "    </tr>\n",
       "    <tr>\n",
       "      <th>21610</th>\n",
       "      <td>402101.0</td>\n",
       "      <td>2</td>\n",
       "      <td>0.75</td>\n",
       "      <td>1020</td>\n",
       "      <td>1350</td>\n",
       "      <td>2.0</td>\n",
       "      <td>0</td>\n",
       "      <td>0</td>\n",
       "      <td>3</td>\n",
       "      <td>7</td>\n",
       "      <td>1020</td>\n",
       "      <td>0</td>\n",
       "      <td>2009</td>\n",
       "      <td>0</td>\n",
       "      <td>98144</td>\n",
       "      <td>1020</td>\n",
       "      <td>2007</td>\n",
       "    </tr>\n",
       "    <tr>\n",
       "      <th>21611</th>\n",
       "      <td>400000.0</td>\n",
       "      <td>3</td>\n",
       "      <td>2.50</td>\n",
       "      <td>1600</td>\n",
       "      <td>2388</td>\n",
       "      <td>2.0</td>\n",
       "      <td>0</td>\n",
       "      <td>0</td>\n",
       "      <td>3</td>\n",
       "      <td>8</td>\n",
       "      <td>1600</td>\n",
       "      <td>0</td>\n",
       "      <td>2004</td>\n",
       "      <td>0</td>\n",
       "      <td>98027</td>\n",
       "      <td>1410</td>\n",
       "      <td>1287</td>\n",
       "    </tr>\n",
       "    <tr>\n",
       "      <th>21612</th>\n",
       "      <td>325000.0</td>\n",
       "      <td>2</td>\n",
       "      <td>0.75</td>\n",
       "      <td>1020</td>\n",
       "      <td>1076</td>\n",
       "      <td>2.0</td>\n",
       "      <td>0</td>\n",
       "      <td>0</td>\n",
       "      <td>3</td>\n",
       "      <td>7</td>\n",
       "      <td>1020</td>\n",
       "      <td>0</td>\n",
       "      <td>2008</td>\n",
       "      <td>0</td>\n",
       "      <td>98144</td>\n",
       "      <td>1020</td>\n",
       "      <td>1357</td>\n",
       "    </tr>\n",
       "  </tbody>\n",
       "</table>\n",
       "<p>21613 rows × 17 columns</p>\n",
       "</div>"
      ],
      "text/plain": [
       "          price  bedrooms  bathrooms  sqft_living  sqft_lot  floors  \\\n",
       "0      221900.0         3       1.00         1180      5650     1.0   \n",
       "1      538000.0         3       2.25         2570      7242     2.0   \n",
       "2      180000.0         2       1.00          770     10000     1.0   \n",
       "3      604000.0         4       3.00         1960      5000     1.0   \n",
       "4      510000.0         3       2.00         1680      8080     1.0   \n",
       "...         ...       ...        ...          ...       ...     ...   \n",
       "21608  360000.0         3       2.50         1530      1131     3.0   \n",
       "21609  400000.0         4       2.50         2310      5813     2.0   \n",
       "21610  402101.0         2       0.75         1020      1350     2.0   \n",
       "21611  400000.0         3       2.50         1600      2388     2.0   \n",
       "21612  325000.0         2       0.75         1020      1076     2.0   \n",
       "\n",
       "       waterfront  view  condition  grade  sqft_above  sqft_basement  \\\n",
       "0               0     0          3      7        1180              0   \n",
       "1               0     0          3      7        2170            400   \n",
       "2               0     0          3      6         770              0   \n",
       "3               0     0          5      7        1050            910   \n",
       "4               0     0          3      8        1680              0   \n",
       "...           ...   ...        ...    ...         ...            ...   \n",
       "21608           0     0          3      8        1530              0   \n",
       "21609           0     0          3      8        2310              0   \n",
       "21610           0     0          3      7        1020              0   \n",
       "21611           0     0          3      8        1600              0   \n",
       "21612           0     0          3      7        1020              0   \n",
       "\n",
       "       yr_built  yr_renovated  zipcode  sqft_living15  sqft_lot15  \n",
       "0          1955             0    98178           1340        5650  \n",
       "1          1951          1991    98125           1690        7639  \n",
       "2          1933             0    98028           2720        8062  \n",
       "3          1965             0    98136           1360        5000  \n",
       "4          1987             0    98074           1800        7503  \n",
       "...         ...           ...      ...            ...         ...  \n",
       "21608      2009             0    98103           1530        1509  \n",
       "21609      2014             0    98146           1830        7200  \n",
       "21610      2009             0    98144           1020        2007  \n",
       "21611      2004             0    98027           1410        1287  \n",
       "21612      2008             0    98144           1020        1357  \n",
       "\n",
       "[21613 rows x 17 columns]"
      ]
     },
     "execution_count": 44,
     "metadata": {},
     "output_type": "execute_result"
    }
   ],
   "source": [
    "X"
   ]
  },
  {
   "cell_type": "code",
   "execution_count": 45,
   "id": "668c249b",
   "metadata": {},
   "outputs": [],
   "source": [
    "y=data['price'].values"
   ]
  },
  {
   "cell_type": "code",
   "execution_count": 46,
   "id": "7a40c09d",
   "metadata": {},
   "outputs": [
    {
     "data": {
      "text/plain": [
       "array([221900., 538000., 180000., ..., 402101., 400000., 325000.])"
      ]
     },
     "execution_count": 46,
     "metadata": {},
     "output_type": "execute_result"
    }
   ],
   "source": [
    "y"
   ]
  },
  {
   "cell_type": "markdown",
   "id": "6e34c177",
   "metadata": {},
   "source": [
    "#### Voir la dimension de X et y."
   ]
  },
  {
   "cell_type": "code",
   "execution_count": 47,
   "id": "882fd6ee",
   "metadata": {},
   "outputs": [
    {
     "data": {
      "text/plain": [
       "(21613, 17)"
      ]
     },
     "execution_count": 47,
     "metadata": {},
     "output_type": "execute_result"
    }
   ],
   "source": [
    "X.shape\n"
   ]
  },
  {
   "cell_type": "code",
   "execution_count": 48,
   "id": "01e9e7a3",
   "metadata": {},
   "outputs": [
    {
     "data": {
      "text/plain": [
       "(21613,)"
      ]
     },
     "execution_count": 48,
     "metadata": {},
     "output_type": "execute_result"
    }
   ],
   "source": [
    "y.shape"
   ]
  },
  {
   "cell_type": "code",
   "execution_count": 49,
   "id": "4544982c",
   "metadata": {},
   "outputs": [],
   "source": [
    "#Redimensionner y\n",
    "y=y.reshape(-1,1)"
   ]
  },
  {
   "cell_type": "code",
   "execution_count": 50,
   "id": "86e290d2",
   "metadata": {},
   "outputs": [
    {
     "data": {
      "text/plain": [
       "(21613, 1)"
      ]
     },
     "execution_count": 50,
     "metadata": {},
     "output_type": "execute_result"
    }
   ],
   "source": [
    "y.shape"
   ]
  },
  {
   "cell_type": "markdown",
   "id": "7cd8c607",
   "metadata": {},
   "source": [
    "### <span style=\"color:red\">2. Split the dataset into the Training set and Test set</span>"
   ]
  },
  {
   "cell_type": "markdown",
   "id": "02a57a7f",
   "metadata": {},
   "source": [
    "Nous devons diviser un ensemble de données en ensembles d'apprentissage et de test pour évaluer les performances de notre modèle d'apprentissage automatique. L'ensemble d'apprentissage est utilisé pour ajuster le modèle, et les statistiques de l'ensemble d'apprentissage sont connues. Le deuxième ensemble est appelé ensemble de données de test, cet ensemble est uniquement utilisé pour les prédictions.\n",
    "+ La méthode train_test_split() est utilisée pour diviser nos données en ensembles d'apprentissage et de test. Tout d'abord, nous devons diviser nos données en caractéristiques (X) et étiquettes (y). Le dataframe est divisé en X_train, X_test, y_train et y_test. Les ensembles X_train et y_train sont utilisés pour entraîner et ajuster le modèle.\n",
    "+ Je vais donner en paramètre à la méthode train_test_split() : X, y, test_size=<donnez une valeur pour le pourcentage de séparation>, random_state=<donnez un entier, par exemple 1>."
   ]
  },
  {
   "cell_type": "code",
   "execution_count": 51,
   "id": "4e85def5",
   "metadata": {},
   "outputs": [],
   "source": [
    "# Diviser les données en ensembles d'apprentissage et de test\n",
    "X_train, X_test, y_train , y_test=train_test_split(X, y,test_size=0.2, random_state=20)"
   ]
  },
  {
   "cell_type": "code",
   "execution_count": 52,
   "id": "c47f88f5",
   "metadata": {},
   "outputs": [
    {
     "name": "stdout",
     "output_type": "stream",
     "text": [
      "Dimensions de X_train: (17290, 17)\n",
      "Dimensions de y_train: (17290, 1)\n",
      "Dimensions de X_test: (4323, 17)\n",
      "Dimensions de y_test: (4323, 1)\n"
     ]
    }
   ],
   "source": [
    "# Afficher la dimension des ensembles d'apprentissage et de test\n",
    "print(\"Dimensions de X_train:\", X_train.shape)\n",
    "print(\"Dimensions de y_train:\", y_train.shape)\n",
    "print(\"Dimensions de X_test:\", X_test.shape)\n",
    "print(\"Dimensions de y_test:\", y_test.shape)"
   ]
  },
  {
   "cell_type": "markdown",
   "id": "595a3196",
   "metadata": {},
   "source": [
    "### <span style=\"color:red\">3. Train the model on the Training set </span>"
   ]
  },
  {
   "cell_type": "markdown",
   "id": "ab238201",
   "metadata": {},
   "source": [
    "Je vais d'abord définir et initialiser le modèle d'apprentissage automatique qui sera utilisé.\n",
    "+ LinearRegression ajuste un modèle linéaire avec des coefficients w = (w1, …, wp) pour minimiser la somme des carrés résiduels entre les cibles observées dans l'ensemble de données et les cibles prédites par l'approximation linéaire."
   ]
  },
  {
   "cell_type": "code",
   "execution_count": 53,
   "id": "57dddd74",
   "metadata": {},
   "outputs": [],
   "source": [
    "regressor = LinearRegression()"
   ]
  },
  {
   "cell_type": "markdown",
   "id": "dbdf4fc7",
   "metadata": {},
   "source": [
    "+ Entraîner un modèle avec scikit-learn et en utilisant la méthode fit() de l'objet regressor"
   ]
  },
  {
   "cell_type": "code",
   "execution_count": 54,
   "id": "4e86c254",
   "metadata": {},
   "outputs": [
    {
     "data": {
      "text/plain": [
       "LinearRegression()"
      ]
     },
     "execution_count": 54,
     "metadata": {},
     "output_type": "execute_result"
    }
   ],
   "source": [
    "regressor.fit(X_train,y_train)"
   ]
  },
  {
   "cell_type": "markdown",
   "id": "c7d35330",
   "metadata": {},
   "source": [
    "### <span style=\"color:red\">4. Assess the model performance</span>"
   ]
  },
  {
   "cell_type": "markdown",
   "id": "73f45d5d",
   "metadata": {},
   "source": [
    "+ Pour effectuer des prédictions, je vais utiliser la fonction predict() sur l'ensemble de test X_test. Cette fonction prédit les valeurs en se basant sur les comportements des données précédentes et en les ajustant au modèle."
   ]
  },
  {
   "cell_type": "code",
   "execution_count": 55,
   "id": "9c478491",
   "metadata": {},
   "outputs": [],
   "source": [
    "pred=regressor.predict(X_test)"
   ]
  },
  {
   "cell_type": "code",
   "execution_count": 56,
   "id": "fbe794f7",
   "metadata": {},
   "outputs": [
    {
     "data": {
      "text/plain": [
       "array([[ 550000.],\n",
       "       [ 202000.],\n",
       "       [ 775900.],\n",
       "       ...,\n",
       "       [1100000.],\n",
       "       [ 325000.],\n",
       "       [ 346150.]])"
      ]
     },
     "execution_count": 56,
     "metadata": {},
     "output_type": "execute_result"
    }
   ],
   "source": [
    "pred"
   ]
  },
  {
   "cell_type": "markdown",
   "id": "71934b31",
   "metadata": {},
   "source": [
    "+ Calculer le score R² en utilisant la fonction score(). "
   ]
  },
  {
   "cell_type": "code",
   "execution_count": 57,
   "id": "5eda905b",
   "metadata": {},
   "outputs": [
    {
     "data": {
      "text/plain": [
       "1.0"
      ]
     },
     "execution_count": 57,
     "metadata": {},
     "output_type": "execute_result"
    }
   ],
   "source": [
    "r_squared=regressor.score(X_train,y_train)\n",
    "r_squared"
   ]
  },
  {
   "cell_type": "markdown",
   "id": "1d58b7b6",
   "metadata": {},
   "source": [
    "+ calculer le MSE."
   ]
  },
  {
   "cell_type": "code",
   "execution_count": 58,
   "id": "54ef9289",
   "metadata": {},
   "outputs": [
    {
     "data": {
      "text/plain": [
       "7.358836302125897e-20"
      ]
     },
     "execution_count": 58,
     "metadata": {},
     "output_type": "execute_result"
    }
   ],
   "source": [
    "from sklearn.metrics import mean_squared_error\n",
    "MSE=mean_squared_error(y_test,pred)\n",
    "MSE"
   ]
  },
  {
   "cell_type": "markdown",
   "id": "b7239682",
   "metadata": {},
   "source": [
    "+ calculer le RMSE"
   ]
  },
  {
   "cell_type": "code",
   "execution_count": 59,
   "id": "09bd0f1a",
   "metadata": {},
   "outputs": [
    {
     "data": {
      "text/plain": [
       "2.7127175124081566e-10"
      ]
     },
     "execution_count": 59,
     "metadata": {},
     "output_type": "execute_result"
    }
   ],
   "source": [
    "RMSE=np.sqrt(MSE)\n",
    "RMSE"
   ]
  },
  {
   "cell_type": "code",
   "execution_count": 60,
   "id": "12be5e2d",
   "metadata": {},
   "outputs": [
    {
     "data": {
      "image/png": "[encoded data removed]",
      "text/plain": [
       "<Figure size 640x480 with 1 Axes>"
      ]
     },
     "metadata": {},
     "output_type": "display_data"
    }
   ],
   "source": [
    "import seaborn as sns\n",
    "error=y_test-pred\n",
    "sns.residplot(x=error,y=pred,lowess=True)\n",
    "plt.show()"
   ]
  },
  {
   "cell_type": "markdown",
   "id": "de3b8396",
   "metadata": {},
   "source": [
    " L'évaluation de la performance du modèle à l'aide de ces différentes mesures peut aider à comprendre à quel point le modèle est précis et fiable. \n",
    "+ Plus le score R² est proche de 1, plus le modèle est capable de prédire les valeurs correctes et on a r_squared=1 Donc le modèle est capable de prédire les valeurs correctes.\n",
    "+ De même, plus le MSE et le RMSE sont faibles, plus les prédictions du modèle sont précises.\n",
    "+ Le résidu plot est un outil visuel qui peut aider à détecter des problèmes avec le modèle. Si les résidus ont une forme aléatoire autour de zéro et que leur variance est constante, cela suggère que le modèle fonctionne bien. Cependant, si les résidus ont une tendance ou une forme spécifique, cela peut indiquer que le modèle ne capture pas correctement certains aspects des données. Il est important d'analyser le résidu plot pour vérifier que le modèle est approprié pour les données.\n",
    "Et dans notre modèle le résidu plot les résidus ont une forme aléatoire autour de zéro et que leur variance est constante alors notre modèle fonctionne bien."
   ]
  },
  {
   "cell_type": "code",
   "execution_count": null,
   "id": "472a725b",
   "metadata": {},
   "outputs": [],
   "source": []
  }
 ],
 "metadata": {
  "kernelspec": {
   "display_name": "Python 3 (ipykernel)",
   "language": "python",
   "name": "python3"
  },
  "language_info": {
   "codemirror_mode": {
    "name": "ipython",
    "version": 3
   },
   "file_extension": ".py",
   "mimetype": "text/x-python",
   "name": "python",
   "nbconvert_exporter": "python",
   "pygments_lexer": "ipython3",
   "version": "3.9.13"
  }
 },
 "nbformat": 4,
 "nbformat_minor": 5
}
