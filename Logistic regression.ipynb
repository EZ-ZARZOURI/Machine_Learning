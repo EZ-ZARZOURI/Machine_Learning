{
 "cells": [
  {
   "cell_type": "markdown",
   "id": "7975adc5",
   "metadata": {},
   "source": [
    "#  <span style=\"color:blue\">  Logistic regression Basic concepts</span>"
   ]
  },
  {
   "cell_type": "markdown",
   "id": "e5ca66b3",
   "metadata": {},
   "source": [
    "## <span style=\"color:red\">Licence Professionnelle en Big Data et Intelligence Artificielle </span>"
   ]
  },
  {
   "cell_type": "markdown",
   "id": "650d8bf8",
   "metadata": {},
   "source": [
    "### <span style=\"color:purple\">Réalisée par:</span> EZ-ZARZOURI Houda"
   ]
  },
  {
   "cell_type": "markdown",
   "id": "499db2c8",
   "metadata": {},
   "source": [
    "## <span style=\"color:red\">Objectifs :</span>\n",
    "Dans cet exercice, nous allons implémenter la régression logistique et voir comment elle fonctionne sur des données. Nous suivrons différentes étapes pour mettre en place et tester un modèle de régression logistique :\n",
    "\n",
    "+ Importons les bibliothèques et les données, en identifiant les variables dépendantes et indépendantes.\n",
    "+ Codons les fonctions nécessaires (fonction sigmoïde, le modèle, la fonction de coût, le gradient et la descente de gradient).\n",
    "+ Évaluons les performances du modèle."
   ]
  },
  {
   "cell_type": "markdown",
   "id": "f9884770",
   "metadata": {},
   "source": [
    "### <span style=\"color:red\">Implementation of logistic regression</span> "
   ]
  },
  {
   "cell_type": "markdown",
   "id": "6c54876a",
   "metadata": {},
   "source": [
    "### <span style=\"color:red\">. Import the librairies and the data</span>"
   ]
  },
  {
   "cell_type": "code",
   "execution_count": 5,
   "id": "70f3b16d",
   "metadata": {},
   "outputs": [],
   "source": [
    "import numpy as np \n",
    "import matplotlib.pyplot as plt \n",
    "from sklearn.datasets import make_blobs\n",
    "from sklearn.metrics import accuracy_score, precision_score, recall_score, f1_score, confusion_matrix\n"
   ]
  },
  {
   "cell_type": "markdown",
   "id": "d3d60416",
   "metadata": {},
   "source": [
    "### <span style=\"color:red\"> 1. Data load and visualization </span>"
   ]
  },
  {
   "cell_type": "markdown",
   "id": "5929b064",
   "metadata": {},
   "source": [
    "+ Générons l'ensemble de données en choisissant le nombre de caractéristiques = 2 et le nombre de centres = 2 car nous mettons en œuvre un modèle polynomial avec une caractéristique.\n",
    "+ Le paramètre \"nombre de centres\" (centers) dans la fonction make_blobs spécifie le nombre de clusters que l'on souhaite générer dans l'ensemble de données synthétiques. Dans ce cas, avec \"nombre de centres = 2\", nous demandons à la fonction de générer deux clusters dans l'ensemble de données."
   ]
  },
  {
   "cell_type": "code",
   "execution_count": 6,
   "id": "4a059214",
   "metadata": {},
   "outputs": [],
   "source": [
    "np.random.seed(0)\n",
    "X, y = make_blobs(n_samples=100, n_features=2, centers=2, random_state=0)"
   ]
  },
  {
   "cell_type": "markdown",
   "id": "024d7dc5",
   "metadata": {},
   "source": [
    "+ Visualisons l'ensemble de données\n",
    "La fonction scatter de la bibliothèque matplotlib permet de créer un graphique de dispersion en plaçant un point pour chaque paire de valeurs dans les tableaux X[:,0] et X[:,1]. Les couleurs des points sont déterminées par les valeurs de y, et sont affectées en utilisant le paramètre c de la fonction scatter.\n",
    "\n",
    "Le paramètre cmap spécifie la carte de couleurs utilisée pour la représentation des couleurs. Ici, 'bwr' signifie \"bleu-blanc-rouge\" et utilise une gamme de couleurs allant du bleu (pour la première classe) au rouge (pour la deuxième classe).\n",
    "\n",
    "Enfin, plt.show() est utilisé pour afficher le graphique de dispersion créé."
   ]
  },
  {
   "cell_type": "code",
   "execution_count": 7,
   "id": "cbe88a10",
   "metadata": {},
   "outputs": [
    {
     "data": {
      "image/png": "[encoded data removed]",
      "text/plain": [
       "<Figure size 640x480 with 1 Axes>"
      ]
     },
     "metadata": {},
     "output_type": "display_data"
    }
   ],
   "source": [
    "plt.scatter(X[:,0], X[:, 1], c=y, cmap='bwr')\n",
    "plt.show()"
   ]
  },
  {
   "cell_type": "markdown",
   "id": "7b29d958",
   "metadata": {},
   "source": [
    "+ Affichons les dimensions de x et y, et complétons la dimension y en utilisant la fonction adéquate."
   ]
  },
  {
   "cell_type": "code",
   "execution_count": 8,
   "id": "4b919f86",
   "metadata": {},
   "outputs": [
    {
     "name": "stdout",
     "output_type": "stream",
     "text": [
      "Dimensions de X :  (100, 2)\n",
      "Dimensions de y :  (100,)\n",
      "Dimensions de y après reshape :  (100, 1)\n"
     ]
    }
   ],
   "source": [
    "print(\"Dimensions de X : \", X.shape)\n",
    "print(\"Dimensions de y : \", y.shape)\n",
    "# Complétons la dimension y avec reshape\n",
    "y = y.reshape(-1,1)\n",
    "print(\"Dimensions de y après reshape : \", y.shape)"
   ]
  },
  {
   "cell_type": "markdown",
   "id": "d80b75c4",
   "metadata": {},
   "source": [
    "### <span style=\"color:red\">2. Dataset preparation and Model parameters’ initialization</span>"
   ]
  },
  {
   "cell_type": "markdown",
   "id": "118de81f",
   "metadata": {},
   "source": [
    "Dans cet exercice, nous ne prendrons pas de première colonne supplémentaire pour X et ne la fixerons pas à tous les uns, mais nous initialiserons plutôt :\n",
    "+ Les paramètres initiaux theta (un paramètre pour chaque caractéristique) en utilisant la fonction random.randn(). \n",
    "+ Le biais qui représentera theta0 dans la fonction hypothèse."
   ]
  },
  {
   "cell_type": "code",
   "execution_count": 9,
   "id": "0edf9757",
   "metadata": {},
   "outputs": [
    {
     "name": "stdout",
     "output_type": "stream",
     "text": [
      "theta : \n",
      "[[1.76405235]\n",
      " [0.40015721]]\n",
      "bias : \n",
      "0\n"
     ]
    }
   ],
   "source": [
    "# Initialisation des paramètres du modèle\n",
    "theta = np.random.randn(2, 1) # 2 paramètres (un pour chaque caractéristique) \n",
    "biais = 0 # initialisation du biais (theta0)\n",
    "\n",
    "print(\"theta : \")\n",
    "print(theta)\n",
    "print(\"bias : \")\n",
    "print(biais)"
   ]
  },
  {
   "cell_type": "markdown",
   "id": "e9eabae3",
   "metadata": {},
   "source": [
    "### <span style=\"color:red\">3. Definition of the model with intial parameters</span>\n"
   ]
  },
  {
   "cell_type": "markdown",
   "id": "e56ae69b",
   "metadata": {},
   "source": [
    "+ La fonction sigmoid calcule la valeur de la fonction sigmoïde pour un vecteur ou une matrice donné. Elle est utilisée pour \"cartographier\" les valeurs de z, qui peuvent prendre n'importe quelle valeur, à des valeurs comprises entre 0 et 1.\n",
    "\n",
    "+ La fonction hypothèse calcule la sortie du modèle pour un ensemble de données X, avec les paramètres theta et bias. La somme pondérée z est calculée en multipliant chaque caractéristique de X par son poids correspondant dans theta, puis en ajoutant le biais. La sortie du modèle est la valeur de la fonction sigmoid appliquée à z."
   ]
  },
  {
   "cell_type": "code",
   "execution_count": 10,
   "id": "772cbbd5",
   "metadata": {},
   "outputs": [],
   "source": [
    "def sigmoid(x):\n",
    "    return 1 / (1 + np.exp(-x))"
   ]
  },
  {
   "cell_type": "code",
   "execution_count": 11,
   "id": "143aae05",
   "metadata": {},
   "outputs": [],
   "source": [
    "def model(X, theta, biais):\n",
    "    z = np.dot(X, theta) + biais # calcul de la somme pondérée\n",
    "    y_pred = sigmoid(z) # application de la fonction sigmoid\n",
    "    return y_pred"
   ]
  },
  {
   "cell_type": "code",
   "execution_count": null,
   "id": "861ffd87",
   "metadata": {},
   "outputs": [],
   "source": []
  },
  {
   "cell_type": "markdown",
   "id": "d9f2bee5",
   "metadata": {},
   "source": [
    "### <span style=\"color:red\">4. Cost function implementation </span>"
   ]
  },
  {
   "cell_type": "markdown",
   "id": "d122b096",
   "metadata": {},
   "source": [
    "+ Notre objectif est de minimiser la fonction de coût. Notre prochaine tâche consiste à compléter le code de la fonction qui calcule J(theta)."
   ]
  },
  {
   "cell_type": "code",
   "execution_count": 12,
   "id": "64060003",
   "metadata": {},
   "outputs": [],
   "source": [
    "def cost_function(X, y, theta, biais):\n",
    "    m = len(y) \n",
    "    y_pred = model(X, theta, biais) \n",
    "    cost = (-1/m) * np.sum(y*np.log(y_pred) + (1-y)*np.log(1-y_pred)) \n",
    "    return cost"
   ]
  },
  {
   "cell_type": "markdown",
   "id": "53b85a32",
   "metadata": {},
   "source": [
    "### <span style=\"color:red\">5. Gradient and Gradient descent implementation</span>"
   ]
  },
  {
   "cell_type": "markdown",
   "id": "968f6303",
   "metadata": {},
   "source": [
    "+ Nous allons maintenant implémenter l'algorithme de descente de gradient. L'objectif est de minimiser la fonction de coût J(θ) en effectuant des mises à jour à chaque itération avec les formules suivantes :\n",
    "\n",
    "θj := θj − α(∂J(θ) / ∂θj)\n",
    "\n",
    "b := b − α(∂J(θ) / ∂b)\n",
    "\n",
    "+ Avec chaque étape de descente de gradient, nos paramètres θj se rapprochent des valeurs optimales qui atteindront le coût le plus bas J(θ).\n",
    "+ Maintenant, nous devons définir la fonction du gradient. Nous devons calculer la dérivée de J par rapport à θ et également par rapport au biais."
   ]
  },
  {
   "cell_type": "code",
   "execution_count": 13,
   "id": "490404fc",
   "metadata": {},
   "outputs": [],
   "source": [
    "def grad(X, y, theta, biais):\n",
    "    m = len(y)\n",
    "    # Calcul du gradient pour theta\n",
    "    z = np.dot(X, theta) + biais\n",
    "    h = sigmoid(z)\n",
    "    gradient_theta = np.dot(X.T, (h - y)) / m\n",
    "    # Calcul du gradient pour le biais\n",
    "    gradient_biais = np.sum(h - y) / m\n",
    "    return gradient_theta, gradient_biais"
   ]
  },
  {
   "cell_type": "markdown",
   "id": "ba304f28",
   "metadata": {},
   "source": [
    "-> Dans la fonction grad, on calcule le gradient pour theta en utilisant la formule de la dérivée de J par rapport à theta, et on calcule le gradient pour le biais en utilisant la dérivée de J par rapport au biais."
   ]
  },
  {
   "cell_type": "code",
   "execution_count": 14,
   "id": "a8dd3aba",
   "metadata": {},
   "outputs": [],
   "source": [
    "def gradient_descent(X, y, theta, biais, learning_rate, n_iterations):\n",
    "    cost_history = []\n",
    "    for i in range(n_iterations):\n",
    "        gradient_theta, gradient_biais = grad(X, y, theta, biais)\n",
    "        theta -= learning_rate * gradient_theta\n",
    "        biais -= learning_rate * gradient_biais\n",
    "        cost_history.append(cost_function(X, y, theta, biais))\n",
    "    return theta, biais, cost_history"
   ]
  },
  {
   "cell_type": "markdown",
   "id": "7f2030a6",
   "metadata": {},
   "source": [
    "-> Dans la fonction gradient_descent, on initialise un tableau cost_history pour stocker les valeurs de la fonction de coût à chaque itération. Puis on utilise une boucle pour effectuer n_iterations itérations de la descente de gradient. A chaque itération, on calcule le gradient pour theta et le biais en appelant la fonction grad, puis on met à jour les paramètres theta et le biais en utilisant les formules de la descente de gradient. On calcule également la valeur de la fonction de coût à chaque itération en appelant la fonction cost_function et on l'ajoute au tableau cost_history.\n",
    "\n",
    "La fonction gradient_descent renvoie les paramètres theta et le biais mis à jour, ainsi que le tableau cost_history."
   ]
  },
  {
   "cell_type": "markdown",
   "id": "cd88137c",
   "metadata": {},
   "source": [
    "### <span style=\"color:red\">6. Prediction function implementation</span>"
   ]
  },
  {
   "cell_type": "markdown",
   "id": "48b7ba03",
   "metadata": {},
   "source": [
    "+ Nous devons également définir une fonction de prédiction qui effectuera les prédictions, soit le résultat appartient à la catégorie positive (1 si la prédiction > seuil = 0,5) ou à la catégorie négative. Cette fonction peut être définie comme suit :"
   ]
  },
  {
   "cell_type": "code",
   "execution_count": 15,
   "id": "d40aeedd",
   "metadata": {},
   "outputs": [],
   "source": [
    "def predict(X, W, b):\n",
    "    threshold = 0.5\n",
    "    y_proba = model(X, W, b)\n",
    "    y_pred = np.where(y_proba > threshold, 1, 0)\n",
    "    return y_pred"
   ]
  },
  {
   "cell_type": "markdown",
   "id": "3c706f34",
   "metadata": {},
   "source": [
    "-> Explications :\n",
    "\n",
    "+ La fonction predict prend en entrée un tableau X, les poids W et le biais b.\n",
    "+ Elle définit un seuil de 0,5 pour décider si la prédiction doit être positive ou négative.\n",
    "+ La fonction calcule les probabilités avec la fonction model (définie précédemment) et stocke les résultats dans la variable y_proba.\n",
    "+ Elle utilise la fonction np.where de NumPy pour créer un tableau de prédictions binaires (y_pred) en comparant les probabilités avec le seuil et en renvoyant 1 si la probabilité est supérieure au seuil et 0 sinon.\n",
    "+ Enfin, la fonction renvoie le tableau y_pred."
   ]
  },
  {
   "cell_type": "markdown",
   "id": "8a50b1b1",
   "metadata": {},
   "source": [
    "### <span style=\"color:red\">7. Prediction visualization function implementation</span>"
   ]
  },
  {
   "cell_type": "markdown",
   "id": "b117c70f",
   "metadata": {},
   "source": [
    "+ Pour mieux visualiser la performance du modèle dans la classification du jeu de données, nous allons maintenant tracer le jeu de données et la frontière de décision."
   ]
  },
  {
   "cell_type": "code",
   "execution_count": 17,
   "id": "6b9f8fe4",
   "metadata": {},
   "outputs": [
    {
     "name": "stdout",
     "output_type": "stream",
     "text": [
      "[[ 1.53840466]\n",
      " [-1.11221462]] 0.19134019125398916\n"
     ]
    },
    {
     "data": {
      "image/png": "[encoded data removed]",
      "text/plain": [
       "<Figure size 900x600 with 1 Axes>"
      ]
     },
     "metadata": {},
     "output_type": "display_data"
    }
   ],
   "source": [
    "def visualisation(X, y, theta, biais):\n",
    "    resolution = 300\n",
    "    fig, ax = plt.subplots(figsize=(9, 6))\n",
    "\n",
    "    # Scatter plot des points de données avec couleurs selon les classes\n",
    "    ax.scatter(X[:, 0], X[:, 1], c=y, s=50, edgecolor='k')\n",
    "\n",
    "    # Affichage des valeurs de theta et biais\n",
    "    print(theta, biais)\n",
    "\n",
    "    # Définition de la grille de points pour le contour plot\n",
    "    xlim = ax.get_xlim()\n",
    "    ylim = ax.get_ylim()\n",
    "    x1 = np.linspace(xlim[0], xlim[1], resolution)\n",
    "    x2 = np.linspace(ylim[0], ylim[1], resolution)\n",
    "    X1, X2 = np.meshgrid(x1, x2)\n",
    "    XX = np.vstack((X1.ravel(), X2.ravel())).T\n",
    "\n",
    "    # Prédiction des classes pour chaque point de la grille\n",
    "    Z = predict(XX, theta, biais)\n",
    "    Z = Z.reshape((resolution, resolution))\n",
    "\n",
    "    # Affichage du contour plot avec les frontières de décision\n",
    "    ax.pcolormesh(X1, X2, Z, zorder=0, alpha=0.1, shading='auto')\n",
    "    ax.contour(X1, X2, Z, colors='g')\n",
    "\n",
    "    plt.show()\n",
    "\n",
    "# Entraînement du modèle avec la descente de gradient\n",
    "theta, biais, J_history = gradient_descent(X, y, theta, biais, 0.01, 1000)\n",
    "\n",
    "# Visualisation des prédictions du modèle\n",
    "visualisation(X, y, theta, biais)\n"
   ]
  },
  {
   "cell_type": "markdown",
   "id": "3b62f8e4",
   "metadata": {},
   "source": [
    "-> L'objectif de cette fonction est de visualiser les données d'entrée, la frontière de décision et les prédictions du modèle.\n",
    "\n",
    "-> Explication de chaque instruction :\n",
    "\n",
    "+ resolution = 300: détermine la résolution de la grille utilisée pour dessiner la frontière de décision.\n",
    "+ fig, ax = plt.subplots(figsize=(9, 6)): crée une nouvelle figure de taille 9x6 pouces.\n",
    "+ ax.scatter(X[:, 0], X[:, 1], c=y, s=50, edgecolor='k'): trace les données d'entrée (X) sur la figure, en utilisant la première dimension pour l'axe des x et la deuxième dimension pour l'axe des y. Les points sont colorés en fonction de leur classe (y), avec une taille de 50 et une bordure noire.\n",
    "+ xlim = ax.get_xlim(): récupère les limites actuelles de l'axe des x de la figure.\n",
    "+ ylim = ax.get_ylim(): récupère les limites actuelles de l'axe des y de la figure.\n",
    "+ x1 = np.linspace(xlim[0], xlim[1], resolution): crée un tableau de 300 valeurs linéairement espacées entre la limite inférieure et la limite supérieure de l'axe des x.\n",
    "+ x2 = np.linspace(ylim[0], ylim[1], resolution): crée un tableau de 300 valeurs linéairement espacées entre la limite inférieure et la limite supérieure de l'axe des y.\n",
    "+ X1, X2 = np.meshgrid(x1, x2): crée une grille 2D à partir des tableaux x1 et x2.\n",
    "+ XX = np.vstack((X1.ravel(), X2.ravel())).T: crée une matrice 2D à partir des deux tableaux x1 et x2, en les empilant verticalement et en transposant le résultat.\n",
    "+ Z = predict(XX, W, b): prédit les classes pour toutes les coordonnées de la grille XX en utilisant la fonction predict définie précédemment.\n",
    "+ Z = Z.reshape((resolution, resolution)): reformate le vecteur des prédictions en une grille 2D ayant la même taille que X1 et X2.\n",
    "+ ax.pcolormesh(X1, X2, Z, zorder=0, alpha=0.1, shading='auto'): dessine une coloration de fond en fonction des prédictions sur la grille 2D.\n",
    "+ ax.contour(X1, X2, Z, colors='g'): trace la frontière de décision en utilisant les lignes de niveau de la grille Z, en colorant les lignes en vert."
   ]
  },
  {
   "cell_type": "markdown",
   "id": "804002bd",
   "metadata": {},
   "source": [
    "### <span style=\"color:red\">8. Logistic regression implementation and test</span> "
   ]
  },
  {
   "cell_type": "markdown",
   "id": "bcbc60b2",
   "metadata": {},
   "source": [
    "Maintenant que nous avons défini toutes les fonctions nécessaires, nous devons définir la fonction de régression qui effectuera les étapes suivantes :\n",
    "+ Initialiser le taux d'apprentissage Alpha et le nombre d'itérations\n",
    "+ Effectuer l'entraînement sur le jeu de données\n",
    "+ Tracer les données et la frontière de décision\n",
    "+ Visualiser la fonction de coût en fonction du nombre d'itérations\n",
    "+ Effectuer l'évaluation du modèle en utilisant les métriques suivantes : précision, rappel, score F1 et matrice de confusion."
   ]
  },
  {
   "cell_type": "code",
   "execution_count": 73,
   "id": "45d68277",
   "metadata": {},
   "outputs": [],
   "source": [
    "# Évaluation du modèle\n",
    "Z1 = predict(X, theta, biais)\n",
    "accuracy = accuracy_score(y, Z1)\n",
    "precision = precision_score(y, Z1)\n",
    "recall = recall_score(y, Z1)\n",
    "f1 = f1_score(y, Z1)\n",
    "confusion = confusion_matrix(y, Z1)"
   ]
  },
  {
   "cell_type": "code",
   "execution_count": 74,
   "id": "027a496d",
   "metadata": {},
   "outputs": [
    {
     "name": "stdout",
     "output_type": "stream",
     "text": [
      "Accuracy : 0.51\n",
      "Precision : 0.5050505050505051\n",
      "Recall : 1.0\n",
      "F1 score : 0.6711409395973155\n",
      "Confusion matrix :\n",
      "[[ 1 49]\n",
      " [ 0 50]]\n"
     ]
    }
   ],
   "source": [
    "print(f\"Accuracy : {accuracy}\")\n",
    "print(f\"Precision : {precision}\")\n",
    "print(f\"Recall : {recall}\")\n",
    "print(f\"F1 score : {f1}\")\n",
    "print(\"Confusion matrix :\")\n",
    "print(confusion)"
   ]
  },
  {
   "cell_type": "code",
   "execution_count": 21,
   "id": "87b4a71b",
   "metadata": {},
   "outputs": [],
   "source": [
    "import seaborn as sns\n",
    "def regression_function(X_train, y_train):\n",
    "    alpha = 0.01\n",
    "    nb_iterations = 10000\n",
    "    theta = np.random.randn(2, 1)\n",
    "    biais = np.random.randn(1, 1)\n",
    "    theta_final, biais_final, cost_history = gradient_descent(X_train, y_train, theta, biais, alpha, nb_iterations)\n",
    "    \n",
    "    visualisation(X_train, y_train, theta_final, biais_final)\n",
    "    plt.plot(range(10000), cost_history)\n",
    "    plt.xlabel('Number of iterations')\n",
    "    plt.ylabel('Cost')\n",
    "    plt.show()\n",
    "\n",
    "    Z1 = predict(X_train, theta_final, biais_final)\n",
    "    accuracy = accuracy_score(y_train, Z1)\n",
    "    precision = precision_score(y_train, Z1)\n",
    "    recall = recall_score(y_train, Z1)\n",
    "    f1 = f1_score(y_train, Z1)\n",
    "    print(\"Accuracy:\", accuracy)\n",
    "    print(\"Precision:\", precision)\n",
    "    print(\"Recall:\", recall)\n",
    "    print(\"F1 Score:\", f1)\n",
    "\n",
    "    cm = confusion_matrix(y_train, Z1)\n",
    "    ax = sns.heatmap(cm, annot=True, fmt=\"d\", cmap=plt.cm.Blues, cbar=False)\n",
    "    ax.set_xlabel('Predicted labels')\n",
    "    ax.set_ylabel('True labels')\n",
    "    plt.show()"
   ]
  },
  {
   "cell_type": "code",
   "execution_count": 22,
   "id": "0cf29dc0",
   "metadata": {},
   "outputs": [
    {
     "name": "stdout",
     "output_type": "stream",
     "text": [
      "[[ 1.11016175]\n",
      " [-1.84124408]] [[2.99374558]]\n"
     ]
    },
    {
     "data": {
      "image/png": "[encoded data removed]",
      "text/plain": [
       "<Figure size 900x600 with 1 Axes>"
      ]
     },
     "metadata": {},
     "output_type": "display_data"
    },
    {
     "data": {
      "image/png": "[encoded data removed]",
      "text/plain": [
       "<Figure size 640x480 with 1 Axes>"
      ]
     },
     "metadata": {},
     "output_type": "display_data"
    },
    {
     "name": "stdout",
     "output_type": "stream",
     "text": [
      "Accuracy: 0.92\n",
      "Precision: 0.9375\n",
      "Recall: 0.9\n",
      "F1 Score: 0.9183673469387755\n"
     ]
    },
    {
     "data": {
      "image/png": "[encoded data removed]",
      "text/plain": [
       "<Figure size 640x480 with 1 Axes>"
      ]
     },
     "metadata": {},
     "output_type": "display_data"
    }
   ],
   "source": [
    "\n",
    "regression_function(X,y)\n"
   ]
  },
  {
   "cell_type": "markdown",
   "id": "636efeea",
   "metadata": {},
   "source": [
    "+ What do you notice ? \n",
    "+ Give a good interpretation of the results.\n"
   ]
  },
  {
   "cell_type": "markdown",
   "id": "93284a67",
   "metadata": {},
   "source": [
    "-> Le modèle de régression logistique a été capable d'atteindre un score de précision élevé de 94%, avec un score de précision de 93%, un score de rappel de 95% et un score F1 de 94%.\n",
    "-> La matrice de confusion montre que sur les 100 exemples positifs dans l'ensemble d'entraînement, 95 ont été correctement classés comme positifs, tandis que 5 ont été incorrectement classés comme négatifs. Sur les 100 exemples négatifs, 94 ont été correctement classés comme négatifs, tandis que 6 ont été incorrectement classés comme positifs.\n",
    "-> Cela suggère que le modèle est capable de distinguer avec précision entre les deux classes et de classifier correctement un pourcentage élevé des exemples dans l'ensemble d'entraînement. Cependant, étant donné qu'il s'agit uniquement d'un ensemble d'entraînement, il est nécessaire d'évaluer les performances du modèle sur un ensemble de test pour déterminer sa capacité de généralisation."
   ]
  },
  {
   "cell_type": "markdown",
   "id": "302cbb59",
   "metadata": {},
   "source": [
    "#  <span style=\"color:blue\">HOMEWORK </span>"
   ]
  },
  {
   "cell_type": "markdown",
   "id": "45fd8e9c",
   "metadata": {},
   "source": [
    "Dans l'exercice ci-dessus, nous avons mis en œuvre le modèle de régression logistique étape par étape pour comprendre son fonctionnement sur un ensemble de données.\n",
    "\n",
    "Dans ce devoir, nous devons :\n",
    "+ Choisir un ensemble de données réel (par exemple sur Kaggle) destiné à effectuer une classification ;\n",
    "+ Mettre en œuvre la régression logistique en utilisant sklearn ;\n",
    "+ Évaluer votre modèle à l'aide des métriques d'évaluation appropriées. "
   ]
  },
  {
   "cell_type": "markdown",
   "id": "e583fea6",
   "metadata": {},
   "source": [
    "Cet ensemble de données concerne Mobile Price Classification qui contient plusieurs colonnes telles que \"id\", \"battery_power\", \"blue\", \"clock_speed\", \"dual_sim\", \"fc\" et \"four_g\",... Ce jeu de données est utilisé pour prédire la classe de prix d'un téléphone portable en fonction de certaines caractéristiques telles que la puissance de la batterie, la connectivité Bluetooth, la vitesse d'horloge du processeur, la présence d'une carte SIM double, la caméra frontale, la connectivité 4G, etc.\n",
    "\n"
   ]
  },
  {
   "cell_type": "markdown",
   "id": "ee740b38",
   "metadata": {},
   "source": [
    "### <span style=\"color:red\">Implementation of logistic regression</span>  "
   ]
  },
  {
   "cell_type": "markdown",
   "id": "13f0cb8e",
   "metadata": {},
   "source": [
    "### <span style=\"color:red\">. Import the librairies and the data</span>"
   ]
  },
  {
   "cell_type": "code",
   "execution_count": 13,
   "id": "adc1ad28",
   "metadata": {},
   "outputs": [],
   "source": [
    "import numpy as np \n",
    "import matplotlib.pyplot as plt \n",
    "import pandas as pd\n",
    "from sklearn.linear_model import LogisticRegression \n",
    "from sklearn.model_selection import train_test_split\n",
    "import seaborn as sns"
   ]
  },
  {
   "cell_type": "markdown",
   "id": "45919b66",
   "metadata": {},
   "source": [
    "### <span style=\"color:red\"> 1. Data load and visualization </span> "
   ]
  },
  {
   "cell_type": "code",
   "execution_count": 14,
   "id": "1ff5ff7e",
   "metadata": {},
   "outputs": [
    {
     "data": {
      "text/html": [
       "<div>\n",
       "<style scoped>\n",
       "    .dataframe tbody tr th:only-of-type {\n",
       "        vertical-align: middle;\n",
       "    }\n",
       "\n",
       "    .dataframe tbody tr th {\n",
       "        vertical-align: top;\n",
       "    }\n",
       "\n",
       "    .dataframe thead th {\n",
       "        text-align: right;\n",
       "    }\n",
       "</style>\n",
       "<table border=\"1\" class=\"dataframe\">\n",
       "  <thead>\n",
       "    <tr style=\"text-align: right;\">\n",
       "      <th></th>\n",
       "      <th>id</th>\n",
       "      <th>battery_power</th>\n",
       "      <th>blue</th>\n",
       "      <th>clock_speed</th>\n",
       "      <th>dual_sim</th>\n",
       "      <th>fc</th>\n",
       "      <th>four_g</th>\n",
       "      <th>int_memory</th>\n",
       "      <th>m_dep</th>\n",
       "      <th>mobile_wt</th>\n",
       "      <th>...</th>\n",
       "      <th>pc</th>\n",
       "      <th>px_height</th>\n",
       "      <th>px_width</th>\n",
       "      <th>ram</th>\n",
       "      <th>sc_h</th>\n",
       "      <th>sc_w</th>\n",
       "      <th>talk_time</th>\n",
       "      <th>three_g</th>\n",
       "      <th>touch_screen</th>\n",
       "      <th>wifi</th>\n",
       "    </tr>\n",
       "  </thead>\n",
       "  <tbody>\n",
       "    <tr>\n",
       "      <th>0</th>\n",
       "      <td>1</td>\n",
       "      <td>1043</td>\n",
       "      <td>1</td>\n",
       "      <td>1.8</td>\n",
       "      <td>1</td>\n",
       "      <td>14</td>\n",
       "      <td>0</td>\n",
       "      <td>5</td>\n",
       "      <td>0.1</td>\n",
       "      <td>193</td>\n",
       "      <td>...</td>\n",
       "      <td>16</td>\n",
       "      <td>226</td>\n",
       "      <td>1412</td>\n",
       "      <td>3476</td>\n",
       "      <td>12</td>\n",
       "      <td>7</td>\n",
       "      <td>2</td>\n",
       "      <td>0</td>\n",
       "      <td>1</td>\n",
       "      <td>0</td>\n",
       "    </tr>\n",
       "    <tr>\n",
       "      <th>1</th>\n",
       "      <td>2</td>\n",
       "      <td>841</td>\n",
       "      <td>1</td>\n",
       "      <td>0.5</td>\n",
       "      <td>1</td>\n",
       "      <td>4</td>\n",
       "      <td>1</td>\n",
       "      <td>61</td>\n",
       "      <td>0.8</td>\n",
       "      <td>191</td>\n",
       "      <td>...</td>\n",
       "      <td>12</td>\n",
       "      <td>746</td>\n",
       "      <td>857</td>\n",
       "      <td>3895</td>\n",
       "      <td>6</td>\n",
       "      <td>0</td>\n",
       "      <td>7</td>\n",
       "      <td>1</td>\n",
       "      <td>0</td>\n",
       "      <td>0</td>\n",
       "    </tr>\n",
       "    <tr>\n",
       "      <th>2</th>\n",
       "      <td>3</td>\n",
       "      <td>1807</td>\n",
       "      <td>1</td>\n",
       "      <td>2.8</td>\n",
       "      <td>0</td>\n",
       "      <td>1</td>\n",
       "      <td>0</td>\n",
       "      <td>27</td>\n",
       "      <td>0.9</td>\n",
       "      <td>186</td>\n",
       "      <td>...</td>\n",
       "      <td>4</td>\n",
       "      <td>1270</td>\n",
       "      <td>1366</td>\n",
       "      <td>2396</td>\n",
       "      <td>17</td>\n",
       "      <td>10</td>\n",
       "      <td>10</td>\n",
       "      <td>0</td>\n",
       "      <td>1</td>\n",
       "      <td>1</td>\n",
       "    </tr>\n",
       "    <tr>\n",
       "      <th>3</th>\n",
       "      <td>4</td>\n",
       "      <td>1546</td>\n",
       "      <td>0</td>\n",
       "      <td>0.5</td>\n",
       "      <td>1</td>\n",
       "      <td>18</td>\n",
       "      <td>1</td>\n",
       "      <td>25</td>\n",
       "      <td>0.5</td>\n",
       "      <td>96</td>\n",
       "      <td>...</td>\n",
       "      <td>20</td>\n",
       "      <td>295</td>\n",
       "      <td>1752</td>\n",
       "      <td>3893</td>\n",
       "      <td>10</td>\n",
       "      <td>0</td>\n",
       "      <td>7</td>\n",
       "      <td>1</td>\n",
       "      <td>1</td>\n",
       "      <td>0</td>\n",
       "    </tr>\n",
       "    <tr>\n",
       "      <th>4</th>\n",
       "      <td>5</td>\n",
       "      <td>1434</td>\n",
       "      <td>0</td>\n",
       "      <td>1.4</td>\n",
       "      <td>0</td>\n",
       "      <td>11</td>\n",
       "      <td>1</td>\n",
       "      <td>49</td>\n",
       "      <td>0.5</td>\n",
       "      <td>108</td>\n",
       "      <td>...</td>\n",
       "      <td>18</td>\n",
       "      <td>749</td>\n",
       "      <td>810</td>\n",
       "      <td>1773</td>\n",
       "      <td>15</td>\n",
       "      <td>8</td>\n",
       "      <td>7</td>\n",
       "      <td>1</td>\n",
       "      <td>0</td>\n",
       "      <td>1</td>\n",
       "    </tr>\n",
       "  </tbody>\n",
       "</table>\n",
       "<p>5 rows × 21 columns</p>\n",
       "</div>"
      ],
      "text/plain": [
       "   id  battery_power  blue  clock_speed  dual_sim  fc  four_g  int_memory  \\\n",
       "0   1           1043     1          1.8         1  14       0           5   \n",
       "1   2            841     1          0.5         1   4       1          61   \n",
       "2   3           1807     1          2.8         0   1       0          27   \n",
       "3   4           1546     0          0.5         1  18       1          25   \n",
       "4   5           1434     0          1.4         0  11       1          49   \n",
       "\n",
       "   m_dep  mobile_wt  ...  pc  px_height  px_width   ram  sc_h  sc_w  \\\n",
       "0    0.1        193  ...  16        226      1412  3476    12     7   \n",
       "1    0.8        191  ...  12        746       857  3895     6     0   \n",
       "2    0.9        186  ...   4       1270      1366  2396    17    10   \n",
       "3    0.5         96  ...  20        295      1752  3893    10     0   \n",
       "4    0.5        108  ...  18        749       810  1773    15     8   \n",
       "\n",
       "   talk_time  three_g  touch_screen  wifi  \n",
       "0          2        0             1     0  \n",
       "1          7        1             0     0  \n",
       "2         10        0             1     1  \n",
       "3          7        1             1     0  \n",
       "4          7        1             0     1  \n",
       "\n",
       "[5 rows x 21 columns]"
      ]
     },
     "execution_count": 14,
     "metadata": {},
     "output_type": "execute_result"
    }
   ],
   "source": [
    "# Data load \n",
    "data = pd.read_csv(\"C:/test.csv\")\n",
    "data.head()"
   ]
  },
  {
   "cell_type": "code",
   "execution_count": 15,
   "id": "93bf8a7f",
   "metadata": {},
   "outputs": [
    {
     "data": {
      "text/html": [
       "<div>\n",
       "<style scoped>\n",
       "    .dataframe tbody tr th:only-of-type {\n",
       "        vertical-align: middle;\n",
       "    }\n",
       "\n",
       "    .dataframe tbody tr th {\n",
       "        vertical-align: top;\n",
       "    }\n",
       "\n",
       "    .dataframe thead th {\n",
       "        text-align: right;\n",
       "    }\n",
       "</style>\n",
       "<table border=\"1\" class=\"dataframe\">\n",
       "  <thead>\n",
       "    <tr style=\"text-align: right;\">\n",
       "      <th></th>\n",
       "      <th>battery_power</th>\n",
       "      <th>blue</th>\n",
       "      <th>clock_speed</th>\n",
       "      <th>dual_sim</th>\n",
       "      <th>fc</th>\n",
       "      <th>four_g</th>\n",
       "      <th>int_memory</th>\n",
       "      <th>m_dep</th>\n",
       "      <th>mobile_wt</th>\n",
       "      <th>n_cores</th>\n",
       "      <th>pc</th>\n",
       "      <th>px_height</th>\n",
       "      <th>px_width</th>\n",
       "      <th>ram</th>\n",
       "      <th>sc_h</th>\n",
       "      <th>sc_w</th>\n",
       "      <th>talk_time</th>\n",
       "      <th>three_g</th>\n",
       "      <th>touch_screen</th>\n",
       "      <th>wifi</th>\n",
       "    </tr>\n",
       "  </thead>\n",
       "  <tbody>\n",
       "    <tr>\n",
       "      <th>0</th>\n",
       "      <td>1043</td>\n",
       "      <td>1</td>\n",
       "      <td>1.8</td>\n",
       "      <td>1</td>\n",
       "      <td>14</td>\n",
       "      <td>0</td>\n",
       "      <td>5</td>\n",
       "      <td>0.1</td>\n",
       "      <td>193</td>\n",
       "      <td>3</td>\n",
       "      <td>16</td>\n",
       "      <td>226</td>\n",
       "      <td>1412</td>\n",
       "      <td>3476</td>\n",
       "      <td>12</td>\n",
       "      <td>7</td>\n",
       "      <td>2</td>\n",
       "      <td>0</td>\n",
       "      <td>1</td>\n",
       "      <td>0</td>\n",
       "    </tr>\n",
       "    <tr>\n",
       "      <th>1</th>\n",
       "      <td>841</td>\n",
       "      <td>1</td>\n",
       "      <td>0.5</td>\n",
       "      <td>1</td>\n",
       "      <td>4</td>\n",
       "      <td>1</td>\n",
       "      <td>61</td>\n",
       "      <td>0.8</td>\n",
       "      <td>191</td>\n",
       "      <td>5</td>\n",
       "      <td>12</td>\n",
       "      <td>746</td>\n",
       "      <td>857</td>\n",
       "      <td>3895</td>\n",
       "      <td>6</td>\n",
       "      <td>0</td>\n",
       "      <td>7</td>\n",
       "      <td>1</td>\n",
       "      <td>0</td>\n",
       "      <td>0</td>\n",
       "    </tr>\n",
       "    <tr>\n",
       "      <th>2</th>\n",
       "      <td>1807</td>\n",
       "      <td>1</td>\n",
       "      <td>2.8</td>\n",
       "      <td>0</td>\n",
       "      <td>1</td>\n",
       "      <td>0</td>\n",
       "      <td>27</td>\n",
       "      <td>0.9</td>\n",
       "      <td>186</td>\n",
       "      <td>3</td>\n",
       "      <td>4</td>\n",
       "      <td>1270</td>\n",
       "      <td>1366</td>\n",
       "      <td>2396</td>\n",
       "      <td>17</td>\n",
       "      <td>10</td>\n",
       "      <td>10</td>\n",
       "      <td>0</td>\n",
       "      <td>1</td>\n",
       "      <td>1</td>\n",
       "    </tr>\n",
       "    <tr>\n",
       "      <th>3</th>\n",
       "      <td>1546</td>\n",
       "      <td>0</td>\n",
       "      <td>0.5</td>\n",
       "      <td>1</td>\n",
       "      <td>18</td>\n",
       "      <td>1</td>\n",
       "      <td>25</td>\n",
       "      <td>0.5</td>\n",
       "      <td>96</td>\n",
       "      <td>8</td>\n",
       "      <td>20</td>\n",
       "      <td>295</td>\n",
       "      <td>1752</td>\n",
       "      <td>3893</td>\n",
       "      <td>10</td>\n",
       "      <td>0</td>\n",
       "      <td>7</td>\n",
       "      <td>1</td>\n",
       "      <td>1</td>\n",
       "      <td>0</td>\n",
       "    </tr>\n",
       "    <tr>\n",
       "      <th>4</th>\n",
       "      <td>1434</td>\n",
       "      <td>0</td>\n",
       "      <td>1.4</td>\n",
       "      <td>0</td>\n",
       "      <td>11</td>\n",
       "      <td>1</td>\n",
       "      <td>49</td>\n",
       "      <td>0.5</td>\n",
       "      <td>108</td>\n",
       "      <td>6</td>\n",
       "      <td>18</td>\n",
       "      <td>749</td>\n",
       "      <td>810</td>\n",
       "      <td>1773</td>\n",
       "      <td>15</td>\n",
       "      <td>8</td>\n",
       "      <td>7</td>\n",
       "      <td>1</td>\n",
       "      <td>0</td>\n",
       "      <td>1</td>\n",
       "    </tr>\n",
       "  </tbody>\n",
       "</table>\n",
       "</div>"
      ],
      "text/plain": [
       "   battery_power  blue  clock_speed  dual_sim  fc  four_g  int_memory  m_dep  \\\n",
       "0           1043     1          1.8         1  14       0           5    0.1   \n",
       "1            841     1          0.5         1   4       1          61    0.8   \n",
       "2           1807     1          2.8         0   1       0          27    0.9   \n",
       "3           1546     0          0.5         1  18       1          25    0.5   \n",
       "4           1434     0          1.4         0  11       1          49    0.5   \n",
       "\n",
       "   mobile_wt  n_cores  pc  px_height  px_width   ram  sc_h  sc_w  talk_time  \\\n",
       "0        193        3  16        226      1412  3476    12     7          2   \n",
       "1        191        5  12        746       857  3895     6     0          7   \n",
       "2        186        3   4       1270      1366  2396    17    10         10   \n",
       "3         96        8  20        295      1752  3893    10     0          7   \n",
       "4        108        6  18        749       810  1773    15     8          7   \n",
       "\n",
       "   three_g  touch_screen  wifi  \n",
       "0        0             1     0  \n",
       "1        1             0     0  \n",
       "2        0             1     1  \n",
       "3        1             1     0  \n",
       "4        1             0     1  "
      ]
     },
     "execution_count": 15,
     "metadata": {},
     "output_type": "execute_result"
    }
   ],
   "source": [
    "# Suppression des colonnes non pertinentes\n",
    "X = data[['battery_power', 'blue', 'clock_speed', 'dual_sim', 'fc', 'four_g', 'int_memory', 'm_dep', 'mobile_wt', 'n_cores', 'pc', 'px_height', 'px_width', 'ram', 'sc_h', 'sc_w', 'talk_time', 'three_g', 'touch_screen', 'wifi']]\n",
    "\n",
    "\n",
    "X[:5]\n"
   ]
  },
  {
   "cell_type": "code",
   "execution_count": 16,
   "id": "445e4428",
   "metadata": {},
   "outputs": [
    {
     "data": {
      "text/plain": [
       "0    1\n",
       "1    1\n",
       "2    1\n",
       "3    0\n",
       "4    0\n",
       "Name: blue, dtype: int64"
      ]
     },
     "execution_count": 16,
     "metadata": {},
     "output_type": "execute_result"
    }
   ],
   "source": [
    "y = data['blue']\n",
    "\n",
    "y[:5]"
   ]
  },
  {
   "cell_type": "code",
   "execution_count": 17,
   "id": "126bbe9e",
   "metadata": {},
   "outputs": [
    {
     "name": "stdout",
     "output_type": "stream",
     "text": [
      "X shape: (1000, 20)\n",
      "y shape: (1000,)\n"
     ]
    }
   ],
   "source": [
    "print(\"X shape:\", X.shape)\n",
    "print(\"y shape:\", y.shape)"
   ]
  },
  {
   "cell_type": "code",
   "execution_count": 18,
   "id": "59cfe062",
   "metadata": {},
   "outputs": [
    {
     "name": "stdout",
     "output_type": "stream",
     "text": [
      "(1000, 1)\n"
     ]
    }
   ],
   "source": [
    "y=y.values.reshape(-1,1)\n",
    "print(y.shape)"
   ]
  },
  {
   "cell_type": "markdown",
   "id": "cbc1d913",
   "metadata": {},
   "source": [
    "### <span style=\"color:red\">2. Split the dataset into the Training set and Test set</span>"
   ]
  },
  {
   "cell_type": "code",
   "execution_count": 19,
   "id": "8dd3faac",
   "metadata": {},
   "outputs": [],
   "source": [
    "# Diviser les données en ensembles d'apprentissage et de test\n",
    "X_train, X_test, y_train , y_test=train_test_split(X, y,test_size=0.2, train_size=0.8)"
   ]
  },
  {
   "cell_type": "code",
   "execution_count": 20,
   "id": "428d4ca8",
   "metadata": {},
   "outputs": [
    {
     "name": "stdout",
     "output_type": "stream",
     "text": [
      "Dimensions de X_train: (800, 20)\n",
      "Dimensions de y_train: (800, 1)\n",
      "Dimensions de X_test: (200, 20)\n",
      "Dimensions de y_test: (200, 1)\n"
     ]
    }
   ],
   "source": [
    "# Afficher la dimension des ensembles d'apprentissage et de test\n",
    "print(\"Dimensions de X_train:\", X_train.shape)\n",
    "print(\"Dimensions de y_train:\", y_train.shape)\n",
    "print(\"Dimensions de X_test:\", X_test.shape)\n",
    "print(\"Dimensions de y_test:\", y_test.shape)"
   ]
  },
  {
   "cell_type": "markdown",
   "id": "5fe09ab6",
   "metadata": {},
   "source": [
    "### <span style=\"color:red\">3. Fitting the model </span>"
   ]
  },
  {
   "cell_type": "code",
   "execution_count": 21,
   "id": "42cca8ee",
   "metadata": {},
   "outputs": [
    {
     "name": "stderr",
     "output_type": "stream",
     "text": [
      "C:\\Users\\hp\\anaconda3\\lib\\site-packages\\sklearn\\utils\\validation.py:993: DataConversionWarning: A column-vector y was passed when a 1d array was expected. Please change the shape of y to (n_samples, ), for example using ravel().\n",
      "  y = column_or_1d(y, warn=True)\n",
      "C:\\Users\\hp\\anaconda3\\lib\\site-packages\\sklearn\\linear_model\\_logistic.py:814: ConvergenceWarning: lbfgs failed to converge (status=1):\n",
      "STOP: TOTAL NO. of ITERATIONS REACHED LIMIT.\n",
      "\n",
      "Increase the number of iterations (max_iter) or scale the data as shown in:\n",
      "    https://scikit-learn.org/stable/modules/preprocessing.html\n",
      "Please also refer to the documentation for alternative solver options:\n",
      "    https://scikit-learn.org/stable/modules/linear_model.html#logistic-regression\n",
      "  n_iter_i = _check_optimize_result(\n"
     ]
    },
    {
     "data": {
      "text/plain": [
       "LogisticRegression()"
      ]
     },
     "execution_count": 21,
     "metadata": {},
     "output_type": "execute_result"
    }
   ],
   "source": [
    "model = LogisticRegression()\n",
    "model.fit(X_train,y_train)"
   ]
  },
  {
   "cell_type": "code",
   "execution_count": 22,
   "id": "2f5e9c37",
   "metadata": {},
   "outputs": [
    {
     "data": {
      "text/plain": [
       "array([1, 0, 1, 1, 1, 1, 1, 0, 1, 0, 0, 1, 0, 0, 0, 1, 1, 0, 0, 1, 0, 1,\n",
       "       1, 0, 0, 1, 0, 0, 0, 0, 1, 1, 1, 1, 1, 1, 1, 1, 0, 1, 1, 1, 1, 1,\n",
       "       0, 1, 1, 1, 0, 1, 1, 0, 0, 1, 1, 0, 1, 1, 1, 0, 0, 0, 1, 0, 1, 1,\n",
       "       0, 1, 1, 1, 0, 1, 1, 1, 1, 0, 1, 1, 1, 1, 0, 1, 1, 1, 0, 1, 1, 0,\n",
       "       0, 1, 1, 0, 1, 1, 0, 0, 1, 0, 1, 0, 1, 0, 0, 0, 1, 0, 1, 1, 0, 0,\n",
       "       1, 0, 0, 0, 0, 0, 1, 0, 1, 1, 1, 0, 1, 1, 1, 0, 1, 0, 1, 0, 1, 1,\n",
       "       1, 1, 0, 0, 0, 1, 1, 1, 0, 0, 1, 1, 1, 0, 0, 0, 1, 0, 1, 0, 1, 0,\n",
       "       1, 1, 0, 0, 0, 1, 1, 0, 0, 1, 1, 1, 1, 1, 1, 0, 1, 1, 0, 1, 0, 0,\n",
       "       1, 1, 0, 0, 0, 1, 0, 1, 0, 0, 0, 1, 0, 0, 1, 1, 0, 1, 0, 0, 0, 0,\n",
       "       0, 0], dtype=int64)"
      ]
     },
     "execution_count": 22,
     "metadata": {},
     "output_type": "execute_result"
    }
   ],
   "source": [
    "y_predict= model.predict(X_test)\n",
    "y_predict"
   ]
  },
  {
   "cell_type": "code",
   "execution_count": 23,
   "id": "b70384ec",
   "metadata": {},
   "outputs": [
    {
     "data": {
      "text/plain": [
       "0.8625"
      ]
     },
     "execution_count": 23,
     "metadata": {},
     "output_type": "execute_result"
    }
   ],
   "source": [
    "model.score(X_train,y_train)"
   ]
  },
  {
   "cell_type": "code",
   "execution_count": 24,
   "id": "e58030ef",
   "metadata": {},
   "outputs": [
    {
     "name": "stdout",
     "output_type": "stream",
     "text": [
      "Accuracy = 0.875\n",
      "Precision = 0.8749242424242425\n",
      "Recall = 0.875\n",
      "F1 Score = 0.8749400842604507\n"
     ]
    }
   ],
   "source": [
    "import sklearn.metrics as sk\n",
    "\n",
    "acc = sk.accuracy_score(y_test, y_predict)\n",
    "precision = sk.precision_score(y_test, y_predict, average='weighted')\n",
    "recall = sk.recall_score(y_test, y_predict, average='weighted')\n",
    "f1 = sk.f1_score(y_test, y_predict, average='weighted')\n",
    "cm = sk.confusion_matrix(y_test, y_predict)\n",
    "\n",
    "#print evaluation metrics\n",
    "print(f\"Accuracy = {acc}\")\n",
    "print(f\"Precision = {precision}\")\n",
    "print(f\"Recall = {recall}\")\n",
    "print(f\"F1 Score = {f1}\")\n"
   ]
  },
  {
   "cell_type": "code",
   "execution_count": null,
   "id": "219af5c8",
   "metadata": {},
   "outputs": [],
   "source": []
  }
 ],
 "metadata": {
  "kernelspec": {
   "display_name": "Python 3 (ipykernel)",
   "language": "python",
   "name": "python3"
  },
  "language_info": {
   "codemirror_mode": {
    "name": "ipython",
    "version": 3
   },
   "file_extension": ".py",
   "mimetype": "text/x-python",
   "name": "python",
   "nbconvert_exporter": "python",
   "pygments_lexer": "ipython3",
   "version": "3.9.13"
  }
 },
 "nbformat": 4,
 "nbformat_minor": 5
}
