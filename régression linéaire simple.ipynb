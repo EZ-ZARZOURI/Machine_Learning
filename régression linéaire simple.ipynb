{
 "cells": [
  {
   "cell_type": "markdown",
   "id": "f85d62d6",
   "metadata": {},
   "source": [
    "#  Linear regression with one variable 'Basic concepts'"
   ]
  },
  {
   "cell_type": "markdown",
   "id": "469ddcad",
   "metadata": {},
   "source": [
    "# Implementation of Linear regression with one variable\n"
   ]
  },
  {
   "cell_type": "markdown",
   "id": "31a3dd7d",
   "metadata": {},
   "source": [
    "#### La régression linéaire avec une seule variable est une méthode d'analyse statistique qui permet de modéliser la relation entre une variable dépendante (ou réponse) et une variable indépendante (ou explicative) en utilisant une fonction linéaire."
   ]
  },
  {
   "cell_type": "markdown",
   "id": "8cc57758",
   "metadata": {},
   "source": [
    "### Mettre en œuvre la régression linéaire avec une variable."
   ]
  },
  {
   "cell_type": "markdown",
   "id": "33b4d877",
   "metadata": {},
   "source": [
    "### - Importer les bibliothèques:"
   ]
  },
  {
   "cell_type": "markdown",
   "id": "5796c07e",
   "metadata": {},
   "source": [
    "#### Numpy est une bibliothèque Python qui fournit des outils pour travailler avec des tableaux multidimensionnels, tandis que Matplotlib.pyplot est une bibliothèque pour créer des graphiques et des visualisations en Python. Ces bibliothèques sont couramment utilisées pour implémenter des algorithmes de Machine Learning. "
   ]
  },
  {
   "cell_type": "code",
   "execution_count": 3,
   "id": "7231558f",
   "metadata": {},
   "outputs": [],
   "source": [
    "import numpy as np \n",
    "import matplotlib.pyplot as plt "
   ]
  },
  {
   "cell_type": "markdown",
   "id": "c5059f0c",
   "metadata": {},
   "source": [
    "## 1. Data load and visualization\n",
    " "
   ]
  },
  {
   "cell_type": "markdown",
   "id": "d705d9b9",
   "metadata": {},
   "source": [
    "### Nous allons utiliser un ensemble de données fictif généré par la fonction make_regression.\n",
    "    La fonction make_regression génère des données aléatoires pour une régression linéaire. Elle crée une matrice de caractéristiques X et une variable cible y. Les données générées peuvent être utilisées pour la modélisation et l'analyse.\n",
    "    Dans cet exercice, nous allons charger les données à l'aide de la fonction make_regression, puis les visualiser à l'aide d'outils de visualisation de données. Cela nous permettra de mieux comprendre les caractéristiques des données et de leur relation avec la variable cible.\n"
   ]
  },
  {
   "cell_type": "code",
   "execution_count": 4,
   "id": "60e39755",
   "metadata": {},
   "outputs": [],
   "source": [
    "from sklearn.datasets import make_regression "
   ]
  },
  {
   "cell_type": "markdown",
   "id": "28f43398",
   "metadata": {},
   "source": [
    "### Cette instruction va générer un ensemble de données fictives pour une régression linéaire avec 100 échantillons et une seule fonctionnalité (caractéristique) appelée \"x\". La variable cible, \"y\", sera également générée. Le paramètre \"noise\" détermine le niveau de bruit dans les données générées.\n",
    "\n",
    "Une fois que l'ensemble de données a été généré, nous pouvons utiliser différentes techniques de visualisation pour explorer les données et comprendre leur structure et leurs relations. "
   ]
  },
  {
   "cell_type": "code",
   "execution_count": 5,
   "id": "7cec0d6b",
   "metadata": {},
   "outputs": [
    {
     "data": {
      "text/plain": [
       "<matplotlib.collections.PathCollection at 0x1fe0cc324c0>"
      ]
     },
     "execution_count": 5,
     "metadata": {},
     "output_type": "execute_result"
    },
    {
     "data": {
      "image/png": "[encoded data removed]",
      "text/plain": [
       "<Figure size 640x480 with 1 Axes>"
      ]
     },
     "metadata": {},
     "output_type": "display_data"
    }
   ],
   "source": [
    "\n",
    "x, y = make_regression(n_samples=100, n_features=1, noise=10)\n",
    "#visualiser les données\n",
    "plt.scatter(x, y)"
   ]
  },
  {
   "cell_type": "markdown",
   "id": "77bad33a",
   "metadata": {},
   "source": [
    "### Utilisons la fonction shape pour voir la dimension de x et y. "
   ]
  },
  {
   "cell_type": "markdown",
   "id": "afe30c01",
   "metadata": {},
   "source": []
  },
  {
   "cell_type": "code",
   "execution_count": 6,
   "id": "30b00726",
   "metadata": {},
   "outputs": [
    {
     "name": "stdout",
     "output_type": "stream",
     "text": [
      "(100, 1)\n",
      "(100,)\n"
     ]
    }
   ],
   "source": [
    "print(x.shape)\n",
    "print(y.shape)"
   ]
  },
  {
   "cell_type": "markdown",
   "id": "8c598ea3",
   "metadata": {},
   "source": [
    "### Nous remarquons que la dimension de y n'est pas complète. Utilisons donc la fonction reshape pour avoir la bonne dimension."
   ]
  },
  {
   "cell_type": "code",
   "execution_count": 7,
   "id": "122467ff",
   "metadata": {},
   "outputs": [
    {
     "name": "stdout",
     "output_type": "stream",
     "text": [
      "(100, 1)\n",
      "(100, 1)\n"
     ]
    }
   ],
   "source": [
    "print(x.shape)\n",
    "# redimensionner y\n",
    "y=y.reshape(100,1)\n",
    "print(y.shape)"
   ]
  },
  {
   "cell_type": "markdown",
   "id": "cf4aaf3e",
   "metadata": {},
   "source": [
    "## 2. Dataset preparation and Model parameters’ initialization"
   ]
  },
  {
   "cell_type": "markdown",
   "id": "3fb4ce2d",
   "metadata": {},
   "source": [
    "#### La préparation du jeu de données fait référence au processus de collecte, de nettoyage et de mise en forme des données pour les utiliser dans les modèles d'apprentissage automatique. L'initialisation des paramètres du modèle fait référence au processus d'attribution de valeurs initiales aux poids et aux biais d'un modèle d'apprentissage automatique. Cela se fait généralement de manière aléatoire ou avec un modèle pré-entraîné. Les valeurs initiales des paramètres ont un impact significatif sur les performances du modèle"
   ]
  },
  {
   "cell_type": "markdown",
   "id": "dc6a45b1",
   "metadata": {},
   "source": [
    "#- Puisque nous stockons chaque exemple sous forme de ligne dans la matrice X, afin de tenir compte du terme d'interception (θ0), nous ajoutons une première colonne supplémentaire à X et la définissons à toutes les valeurs de 1. Cela nous permet de traiter θ0 simplement comme une autre \"fonctionnalité\".\n",
    "\n",
    "Pour ajouter une colonne de 1 à x, nous pouvons utiliser la fonction hstack pour combiner x avec un vecteur de 1 (np.ones(<taille du vecteur>))."
   ]
  },
  {
   "cell_type": "code",
   "execution_count": 8,
   "id": "2be7d4a8",
   "metadata": {},
   "outputs": [
    {
     "data": {
      "text/plain": [
       "array([[-1.03479631,  1.        ],\n",
       "       [-1.23888834,  1.        ],\n",
       "       [-0.33824777,  1.        ],\n",
       "       [ 1.11106877,  1.        ],\n",
       "       [ 0.42314843,  1.        ],\n",
       "       [ 2.05234228,  1.        ],\n",
       "       [-0.224091  ,  1.        ],\n",
       "       [-1.09676015,  1.        ],\n",
       "       [ 0.61130821,  1.        ],\n",
       "       [-0.78793841,  1.        ],\n",
       "       [-0.70749598,  1.        ],\n",
       "       [-0.9150432 ,  1.        ],\n",
       "       [-1.39120357,  1.        ],\n",
       "       [-0.54683535,  1.        ],\n",
       "       [-2.70714378,  1.        ],\n",
       "       [-0.17098997,  1.        ],\n",
       "       [ 0.67689617,  1.        ],\n",
       "       [-0.21802209,  1.        ],\n",
       "       [-0.59030028,  1.        ],\n",
       "       [ 1.82599088,  1.        ],\n",
       "       [ 0.42664985,  1.        ],\n",
       "       [-0.80619248,  1.        ],\n",
       "       [-0.32710276,  1.        ],\n",
       "       [-0.1096747 ,  1.        ],\n",
       "       [ 1.4751316 ,  1.        ],\n",
       "       [-0.010891  ,  1.        ],\n",
       "       [-0.88077842,  1.        ],\n",
       "       [ 0.82631934,  1.        ],\n",
       "       [ 1.69284682,  1.        ],\n",
       "       [ 0.81389697,  1.        ],\n",
       "       [ 0.95735042,  1.        ],\n",
       "       [ 0.47547449,  1.        ],\n",
       "       [-0.67792132,  1.        ],\n",
       "       [ 0.07716216,  1.        ],\n",
       "       [ 0.79078066,  1.        ],\n",
       "       [ 1.50720045,  1.        ],\n",
       "       [-0.7647509 ,  1.        ],\n",
       "       [ 0.7234451 ,  1.        ],\n",
       "       [ 1.1017972 ,  1.        ],\n",
       "       [ 1.31223884,  1.        ],\n",
       "       [-0.38130095,  1.        ],\n",
       "       [ 1.29508896,  1.        ],\n",
       "       [-0.47342613,  1.        ],\n",
       "       [-0.25624996,  1.        ],\n",
       "       [ 0.44623982,  1.        ],\n",
       "       [-0.76706263,  1.        ],\n",
       "       [ 1.33887329,  1.        ],\n",
       "       [-0.22559132,  1.        ],\n",
       "       [ 0.12664926,  1.        ],\n",
       "       [-0.15076827,  1.        ],\n",
       "       [-0.24954503,  1.        ],\n",
       "       [-1.06589318,  1.        ],\n",
       "       [ 0.50674153,  1.        ],\n",
       "       [-0.57546274,  1.        ],\n",
       "       [ 0.43186921,  1.        ],\n",
       "       [-0.00914419,  1.        ],\n",
       "       [-0.88165116,  1.        ],\n",
       "       [ 1.82512152,  1.        ],\n",
       "       [-0.22502843,  1.        ],\n",
       "       [ 0.886805  ,  1.        ],\n",
       "       [ 0.46493142,  1.        ],\n",
       "       [ 0.32028195,  1.        ],\n",
       "       [ 1.57549093,  1.        ],\n",
       "       [-0.69372515,  1.        ],\n",
       "       [-0.54256127,  1.        ],\n",
       "       [ 0.78193065,  1.        ],\n",
       "       [-1.56829995,  1.        ],\n",
       "       [-0.45052961,  1.        ],\n",
       "       [-0.29970736,  1.        ],\n",
       "       [ 1.73412782,  1.        ],\n",
       "       [ 1.34387549,  1.        ],\n",
       "       [-2.19640395,  1.        ],\n",
       "       [ 1.58367436,  1.        ],\n",
       "       [ 0.69427721,  1.        ],\n",
       "       [ 1.27491806,  1.        ],\n",
       "       [ 0.18761746,  1.        ],\n",
       "       [ 0.22908738,  1.        ],\n",
       "       [ 0.46537577,  1.        ],\n",
       "       [-0.94624028,  1.        ],\n",
       "       [ 0.18934415,  1.        ],\n",
       "       [-0.17876275,  1.        ],\n",
       "       [ 1.20857983,  1.        ],\n",
       "       [-1.39105004,  1.        ],\n",
       "       [ 0.93177548,  1.        ],\n",
       "       [-0.26260397,  1.        ],\n",
       "       [ 0.7598274 ,  1.        ],\n",
       "       [ 1.17399887,  1.        ],\n",
       "       [ 1.67992088,  1.        ],\n",
       "       [-0.41460117,  1.        ],\n",
       "       [ 0.94336811,  1.        ],\n",
       "       [ 0.94724809,  1.        ],\n",
       "       [ 0.22199936,  1.        ],\n",
       "       [-1.19346685,  1.        ],\n",
       "       [-0.23244791,  1.        ],\n",
       "       [ 1.60351413,  1.        ],\n",
       "       [-0.11371676,  1.        ],\n",
       "       [ 0.2629384 ,  1.        ],\n",
       "       [-1.39948573,  1.        ],\n",
       "       [-1.1738189 ,  1.        ],\n",
       "       [ 1.89565596,  1.        ]])"
      ]
     },
     "execution_count": 8,
     "metadata": {},
     "output_type": "execute_result"
    }
   ],
   "source": [
    "#Add a column of ones to x by using the hstack function to combine x with a vector of 1\n",
    "X = np.hstack((x, np.ones(x.shape)))\n",
    "X"
   ]
  },
  {
   "cell_type": "markdown",
   "id": "8c163a03",
   "metadata": {},
   "source": [
    "### Voir la dimension"
   ]
  },
  {
   "cell_type": "code",
   "execution_count": 10,
   "id": "ac14bad1",
   "metadata": {},
   "outputs": [
    {
     "name": "stdout",
     "output_type": "stream",
     "text": [
      "(100, 2)\n"
     ]
    }
   ],
   "source": [
    "print(X.shape)"
   ]
  },
  {
   "cell_type": "markdown",
   "id": "7c672a00",
   "metadata": {},
   "source": [
    "### Nous initialisons également les paramètres initiaux theta à l'aide de la fonction random.randn()"
   ]
  },
  {
   "cell_type": "code",
   "execution_count": 9,
   "id": "a9635e7e",
   "metadata": {},
   "outputs": [
    {
     "data": {
      "text/plain": [
       "array([[0.26079349],\n",
       "       [0.17113172]])"
      ]
     },
     "execution_count": 9,
     "metadata": {},
     "output_type": "execute_result"
    }
   ],
   "source": [
    "theta = np.random.randn(2, 1)\n",
    "theta"
   ]
  },
  {
   "cell_type": "markdown",
   "id": "387b8e40",
   "metadata": {},
   "source": [
    "# Definition and visualization of the model with intial parameters"
   ]
  },
  {
   "cell_type": "markdown",
   "id": "356c2cdb",
   "metadata": {},
   "source": [
    "# Modèle"
   ]
  },
  {
   "cell_type": "markdown",
   "id": "ec937960",
   "metadata": {},
   "source": [
    "### La fonction hypothèse est utilisée pour estimer les valeurs de sortie à partir des entrées. Elle prend une matrice d'entrée X et une matrice de paramètres θ en entrée, et retourne le produit de matrices X*θ."
   ]
  },
  {
   "cell_type": "code",
   "execution_count": 10,
   "id": "8c52a46d",
   "metadata": {},
   "outputs": [],
   "source": [
    "def model(X, theta):\n",
    "    return X.dot(theta)"
   ]
  },
  {
   "cell_type": "markdown",
   "id": "c786110b",
   "metadata": {},
   "source": [
    "### Ensuite, Nous visualisons les résultats du modèle par la courbe du modèle suivante et les points de données dans le même graphique ."
   ]
  },
  {
   "cell_type": "code",
   "execution_count": 11,
   "id": "0522135e",
   "metadata": {},
   "outputs": [
    {
     "data": {
      "text/plain": [
       "[<matplotlib.lines.Line2D at 0x1fe0cc8c070>]"
      ]
     },
     "execution_count": 11,
     "metadata": {},
     "output_type": "execute_result"
    },
    {
     "data": {
      "image/png": "[encoded data removed]",
      "text/plain": [
       "<Figure size 640x480 with 1 Axes>"
      ]
     },
     "metadata": {},
     "output_type": "display_data"
    }
   ],
   "source": [
    "plt.scatter(x,y)\n",
    "plt.plot(x,model(X,theta),color=\"green\")"
   ]
  },
  {
   "cell_type": "markdown",
   "id": "1855c973",
   "metadata": {},
   "source": [
    "### En observant la visualisation, nous remarquons que la courbe du modèle ne correspond pas exactement aux points de données. Cela signifie que les paramètres initiaux ne sont pas les meilleurs pour ajuster le modèle aux données. Il faut peut-être effectuer une optimisation pour trouver les meilleurs paramètres."
   ]
  },
  {
   "cell_type": "markdown",
   "id": "bcb5cef9",
   "metadata": {},
   "source": [
    "## 4. Cost function implementation"
   ]
  },
  {
   "cell_type": "markdown",
   "id": "f6953f09",
   "metadata": {},
   "source": [
    "### L'implémentation de la fonction de coût consiste à écrire le code qui calcule la valeur de la fonction J(θ) pour un ensemble de données d'entraînement donné, où J(θ) est une fonction de la variable θ qui représente les paramètres d'un modèle. La fonction de coût mesure l'écart entre les prédictions du modèle et les valeurs réelles de l'ensemble d'entraînement, et permet d'évaluer la qualité de la prédiction du modèle."
   ]
  },
  {
   "cell_type": "markdown",
   "id": "0b7f1ead",
   "metadata": {},
   "source": [
    "# \n",
    "Le code commence par calculer la taille de l'ensemble d'entraînement, représentée par la variable m qui est la longueur du vecteur y.\n",
    "Ensuite, la fonction appelle un modèle qui prend en entrée les matrices X et θ et calcule les prédictions du modèle pour chaque exemple de l'ensemble d'entraînement. Le résultat est soustrait de y, ce qui donne un vecteur d'erreur pour chaque exemple."
   ]
  },
  {
   "cell_type": "code",
   "execution_count": 13,
   "id": "7ebed5f1",
   "metadata": {},
   "outputs": [],
   "source": [
    "def cost_function(X, y, theta):\n",
    "    m = len(y)\n",
    "    return 1/(2*m) * np.sum((model(X, theta) - y)**2)"
   ]
  },
  {
   "cell_type": "markdown",
   "id": "a153e33f",
   "metadata": {},
   "source": [
    "#### La fonction utilise ces paramètres pour calculer les prédictions du modèle et comparer ces prédictions aux valeurs réelles des données d'entraînement. Elle retourne une valeur qui représente la différence entre les prédictions et les valeurs réelles"
   ]
  },
  {
   "cell_type": "code",
   "execution_count": 14,
   "id": "9a4075ff",
   "metadata": {},
   "outputs": [
    {
     "data": {
      "text/plain": [
       "3652.8057596705994"
      ]
     },
     "execution_count": 14,
     "metadata": {},
     "output_type": "execute_result"
    }
   ],
   "source": [
    "cost_function(X, y, theta)"
   ]
  },
  {
   "cell_type": "code",
   "execution_count": 15,
   "id": "7c169251",
   "metadata": {},
   "outputs": [
    {
     "data": {
      "text/plain": [
       "(100, 1)"
      ]
     },
     "execution_count": 15,
     "metadata": {},
     "output_type": "execute_result"
    }
   ],
   "source": [
    "(model(X,theta)-y).shape"
   ]
  },
  {
   "cell_type": "markdown",
   "id": "5fd3e44f",
   "metadata": {},
   "source": [
    "## 5. Gradient descent implementation\n"
   ]
  },
  {
   "cell_type": "markdown",
   "id": "a7e86eb1",
   "metadata": {},
   "source": [
    "#- La fonction grad(X, y, theta) retourne le gradient de la fonction de coût par rapport aux paramètres theta. Plus précisément, cette fonction calcule la dérivée partielle de la fonction de coût par rapport à chaque paramètre theta_j. Le résultat est un vecteur de même dimension que theta."
   ]
  },
  {
   "cell_type": "code",
   "execution_count": 16,
   "id": "8423dbf5",
   "metadata": {},
   "outputs": [],
   "source": [
    "def grad(X, y, theta):\n",
    "    m = len(y)\n",
    "    return 1/m * X.T.dot(model(X,theta)-y)\n",
    "\n",
    "\n"
   ]
  },
  {
   "cell_type": "code",
   "execution_count": 17,
   "id": "834277d0",
   "metadata": {},
   "outputs": [
    {
     "data": {
      "text/plain": [
       "array([[-84.50746501],\n",
       "       [-12.11986268]])"
      ]
     },
     "execution_count": 17,
     "metadata": {},
     "output_type": "execute_result"
    }
   ],
   "source": [
    "grad(X, y, theta)"
   ]
  },
  {
   "cell_type": "markdown",
   "id": "f0a29267",
   "metadata": {},
   "source": [
    "#- La fonction gradient_descent effectue une descente de gradient pour trouver les paramètres optimaux d'un modèle de régression linéaire. Les paramètres sont ajustés à chaque itération pour minimiser la différence entre les prédictions du modèle et les valeurs réelles. "
   ]
  },
  {
   "cell_type": "code",
   "execution_count": 18,
   "id": "c31f749a",
   "metadata": {},
   "outputs": [],
   "source": [
    "def gradient_descent(X, y, theta, learning_rate, n_iterations):\n",
    "    for i in range(0, n_iterations):\n",
    "        theta = theta - learning_rate * grad(X, y, theta) \n",
    "    return theta"
   ]
  },
  {
   "cell_type": "markdown",
   "id": "898f25a5",
   "metadata": {},
   "source": [
    "#- Ce code utilise la fonction gradient_descent pour ajuster les paramètres du modèle de régression linéaire,le taux d'apprentissage (learning rate) qui est fixé à 0.01 et le nombre d'itérations pour la descente de gradient qui est fixé à 1000"
   ]
  },
  {
   "cell_type": "code",
   "execution_count": 19,
   "id": "27486752",
   "metadata": {},
   "outputs": [],
   "source": [
    "theta_f=gradient_descent(X, y, theta, learning_rate=0.01, n_iterations=1000)"
   ]
  },
  {
   "cell_type": "code",
   "execution_count": 20,
   "id": "7422ad3b",
   "metadata": {},
   "outputs": [
    {
     "data": {
      "text/plain": [
       "array([[8.58816736e+01],\n",
       "       [1.22373925e-02]])"
      ]
     },
     "execution_count": 20,
     "metadata": {},
     "output_type": "execute_result"
    }
   ],
   "source": [
    "theta_f"
   ]
  },
  {
   "cell_type": "code",
   "execution_count": 42,
   "id": "c0ae01d5",
   "metadata": {},
   "outputs": [
    {
     "data": {
      "text/plain": [
       "[<matplotlib.lines.Line2D at 0x2374d3fb040>]"
      ]
     },
     "execution_count": 42,
     "metadata": {},
     "output_type": "execute_result"
    },
    {
     "data": {
      "image/png": "[encoded data removed]",
      "text/plain": [
       "<Figure size 640x480 with 1 Axes>"
      ]
     },
     "metadata": {},
     "output_type": "display_data"
    }
   ],
   "source": [
    "plt.scatter(x,y)\n",
    "plt.plot(x,model(X,theta_f),color=\"green\")"
   ]
  },
  {
   "cell_type": "markdown",
   "id": "f8a3d0eb",
   "metadata": {},
   "source": [
    "### Après le tracage de la courbe , on constitue que la nouvelle hypothèse a mieux représenter les données car la différence entre les prévisions du modèle et les valeurs réelles sont réduite et la courbe a passé à proximité de tous les points du jeu de données.\n",
    "\n"
   ]
  },
  {
   "cell_type": "markdown",
   "id": "0faf8dbb",
   "metadata": {},
   "source": [
    "## Homework (optional)\n"
   ]
  },
  {
   "cell_type": "markdown",
   "id": "120ea719",
   "metadata": {},
   "source": [
    "### Pour tracer un graphique montrant l'évolution de la fonction de coût en fonction du nombre d'itérations lors de l'entraînement d'un modèle de machine learning, il est nécessaire de stocker la valeur de la fonction de coût à chaque itération."
   ]
  },
  {
   "cell_type": "markdown",
   "id": "88ad64c6",
   "metadata": {},
   "source": [
    "#- Cette fonction gradient_descent est une implémentation de l'algorithme de descente de gradient. Elle prend en entrée une matrice de données X, un vecteur cible y, un vecteur de paramètres theta initial, un taux d'apprentissage (learning_rate) et un nombre d'itérations (n_iterations) à effectuer. La fonction effectue alors une boucle sur le nombre d'itérations spécifié. À chaque itération, elle calcule la mise à jour des paramètres theta en utilisant la formule de la descente de gradient :\n",
    "                                    theta = theta - learning_rate * grad(X, y, theta)\n",
    "                                    \n",
    "Ensuite, la fonction enregistre la valeur de la fonction de coût pour les données actuelles dans une liste cost_history qui sera renvoyée en même temps que les paramètres theta mis à jour.\n",
    "\n",
    "Et Finalement, la fonction renvoie les paramètres theta mis à jour ainsi que l'historique des coûts, qui peut être utilisé pour tracer l'évolution de la fonction de coût au fil des itérations."
   ]
  },
  {
   "cell_type": "code",
   "execution_count": 21,
   "id": "be8e2e8a",
   "metadata": {},
   "outputs": [],
   "source": [
    "def gradient_descent(X, y, theta, learning_rate, n_iterations):\n",
    "    \n",
    "    cost_history = np.zeros(n_iterations) # création d'un tableau de stockage pour enregistrer l'évolution du Cout du modele\n",
    "    \n",
    "    for i in range(0, n_iterations):\n",
    "        theta = theta - learning_rate * grad(X, y, theta) # mise a jour du parametre theta (formule du gradient descent)\n",
    "        cost_history[i] = cost_function(X, y, theta) # on enregistre la valeur du Cout au tour i dans cost_history[i]\n",
    "        \n",
    "    return theta, cost_history"
   ]
  },
  {
   "cell_type": "code",
   "execution_count": 22,
   "id": "b99e885d",
   "metadata": {},
   "outputs": [],
   "source": [
    "n_iterations = 1000\n",
    "learning_rate = 0.01\n",
    "\n",
    "\n",
    "theta_final, cost_history = gradient_descent(X, y, theta, learning_rate, n_iterations)"
   ]
  },
  {
   "cell_type": "code",
   "execution_count": 23,
   "id": "7a044699",
   "metadata": {},
   "outputs": [
    {
     "data": {
      "text/plain": [
       "array([[8.58816736e+01],\n",
       "       [1.22373925e-02]])"
      ]
     },
     "execution_count": 23,
     "metadata": {},
     "output_type": "execute_result"
    }
   ],
   "source": [
    "theta_final"
   ]
  },
  {
   "cell_type": "code",
   "execution_count": 24,
   "id": "8e15fbad",
   "metadata": {},
   "outputs": [],
   "source": [
    "# création d'un vecteur prédictions qui contient les prédictions de notre modele final\n",
    "predictions = model(X, theta_final)\n",
    "\n"
   ]
  },
  {
   "cell_type": "markdown",
   "id": "dd6539a5",
   "metadata": {},
   "source": [
    "## 6-Learning curves"
   ]
  },
  {
   "cell_type": "markdown",
   "id": "da1cee3a",
   "metadata": {},
   "source": [
    "### La vérification de l'efficacité de l'algorithme de descente de gradient consiste à observer l'évolution de la fonction de coût au fil des itérations. L'objectif est d'obtenir une courbe décroissante qui converge vers un niveau minimal (proche de zéro). Si la courbe ne suit pas cette tendance, cela indique que le taux d'apprentissage (learning rate) peut être trop élevé et qu'une valeur plus faible doit être utilisée."
   ]
  },
  {
   "cell_type": "code",
   "execution_count": 25,
   "id": "367e526b",
   "metadata": {},
   "outputs": [
    {
     "data": {
      "image/png": "[encoded data removed]",
      "text/plain": [
       "<Figure size 640x480 with 1 Axes>"
      ]
     },
     "metadata": {},
     "output_type": "display_data"
    }
   ],
   "source": [
    "plt.plot(range(n_iterations), cost_history)\n",
    "plt.xlabel('Nombre d\\'itérations')\n",
    "plt.ylabel('Fonction de coût')\n",
    "plt.title('Évolution de la fonction de coût avec la descente de gradient')\n",
    "plt.show()"
   ]
  },
  {
   "cell_type": "markdown",
   "id": "54e650a2",
   "metadata": {},
   "source": [
    "## 7-Final evaluation. "
   ]
  },
  {
   "cell_type": "markdown",
   "id": "6d03cbfb",
   "metadata": {},
   "source": [
    "### Pour mesurer la performance effective de notre modèle,on peut utiliser le coefficient de détermination"
   ]
  },
  {
   "cell_type": "markdown",
   "id": "57652424",
   "metadata": {},
   "source": [
    "#- La fonction \"coef_determination\" permet de calculer le coefficient de détermination R², qui mesure la proportion de la variance totale de la variable dépendante y qui est expliquée par le modèle de régression.\n",
    "\n",
    "Le code commence par calculer la somme des carrés des résidus (u), qui mesure la variation non expliquée par le modèle, en soustrayant les prédictions (pred) des valeurs réelles de y, puis en élevant le résultat au carré et en faisant la somme des carrés.\n",
    "\n",
    "Ensuite, la somme des carrés totale (v) est calculée en soustrayant la moyenne de y de chaque valeur de y, en élevant le résultat au carré et en faisant la somme des carrés. Cette quantité mesure la variation totale de y.\n",
    "\n",
    "Finalement, le coefficient de détermination est calculé en soustrayant u de v, en divisant le résultat par v, et en soustrayant le quotient de 1. Le résultat est donc une mesure de la proportion de la variance totale de y qui est expliquée par le modèle de régression, avec une valeur de 1 indiquant une ajustement parfait du modèle et une valeur proche de 0 indiquant que le modèle ne parvient pas à expliquer la variation de y. "
   ]
  },
  {
   "cell_type": "code",
   "execution_count": 26,
   "id": "f6059554",
   "metadata": {},
   "outputs": [],
   "source": [
    "def coef_determination(y, pred):\n",
    "    u = ((y - pred)**2).sum()\n",
    "    v = ((y - y.mean())**2).sum()\n",
    "    return 1 - u/v"
   ]
  },
  {
   "cell_type": "code",
   "execution_count": 27,
   "id": "6002a3a3",
   "metadata": {},
   "outputs": [
    {
     "data": {
      "text/plain": [
       "0.9901068963760913"
      ]
     },
     "execution_count": 27,
     "metadata": {},
     "output_type": "execute_result"
    }
   ],
   "source": [
    "coef_determination(y, predictions)"
   ]
  },
  {
   "cell_type": "markdown",
   "id": "ccc66de1",
   "metadata": {},
   "source": [
    "### Le résultat du coefficient de détermination est de 0.9821943324576525, ce qui indique que le modèle de régression linéaire s'ajuste très bien aux données observées. Plus précisément, cela signifie que 98,2% de la variance totale des données est expliquée par la régression linéaire, ce qui est considéré comme un ajustement très fort."
   ]
  },
  {
   "cell_type": "code",
   "execution_count": null,
   "id": "e29a926b",
   "metadata": {},
   "outputs": [],
   "source": []
  }
 ],
 "metadata": {
  "kernelspec": {
   "display_name": "Python 3 (ipykernel)",
   "language": "python",
   "name": "python3"
  },
  "language_info": {
   "codemirror_mode": {
    "name": "ipython",
    "version": 3
   },
   "file_extension": ".py",
   "mimetype": "text/x-python",
   "name": "python",
   "nbconvert_exporter": "python",
   "pygments_lexer": "ipython3",
   "version": "3.9.13"
  }
 },
 "nbformat": 4,
 "nbformat_minor": 5
}
